{
 "cells": [
  {
   "cell_type": "code",
   "execution_count": 67,
   "id": "937f7cb1",
   "metadata": {},
   "outputs": [],
   "source": [
    "import numpy as np"
   ]
  },
  {
   "cell_type": "code",
   "execution_count": 68,
   "id": "ec9eb203",
   "metadata": {},
   "outputs": [],
   "source": [
    "my_arr = np.arange(1_000_000)\n",
    "my_list = list(range(1_000_000))"
   ]
  },
  {
   "cell_type": "code",
   "execution_count": 69,
   "id": "074565bf",
   "metadata": {},
   "outputs": [
    {
     "data": {
      "text/plain": [
       "(array([     0,      1,      2, ..., 999997, 999998, 999999]),)"
      ]
     },
     "execution_count": 69,
     "metadata": {},
     "output_type": "execute_result"
    }
   ],
   "source": [
    "my_arr, "
   ]
  },
  {
   "cell_type": "code",
   "execution_count": 70,
   "id": "5ec2b8c8",
   "metadata": {},
   "outputs": [
    {
     "name": "stdout",
     "output_type": "stream",
     "text": [
      "2.03 ms ± 274 µs per loop (mean ± std. dev. of 7 runs, 100 loops each)\n"
     ]
    }
   ],
   "source": [
    "%timeit my_arr2 = my_arr * 2"
   ]
  },
  {
   "cell_type": "code",
   "execution_count": 71,
   "id": "4f829dc7",
   "metadata": {},
   "outputs": [
    {
     "name": "stdout",
     "output_type": "stream",
     "text": [
      "54.8 ms ± 1.13 ms per loop (mean ± std. dev. of 7 runs, 10 loops each)\n"
     ]
    }
   ],
   "source": [
    "%timeit my_list2 = [x * 2 for x in my_list]"
   ]
  },
  {
   "cell_type": "code",
   "execution_count": null,
   "id": "801bfe5e",
   "metadata": {},
   "outputs": [],
   "source": [
    "data = np.array([[1.5, -0.1, 6], [4, 0, -8.5]]) # n-dimensional array"
   ]
  },
  {
   "cell_type": "code",
   "execution_count": null,
   "id": "8dd37d16",
   "metadata": {},
   "outputs": [],
   "source": [
    "data"
   ]
  },
  {
   "cell_type": "code",
   "execution_count": null,
   "id": "dfac14ed",
   "metadata": {},
   "outputs": [],
   "source": [
    "# performing mathematical operations\n",
    "data * 10\n",
    "data - 1\n",
    "data - 1 * 10\n",
    "data + data"
   ]
  },
  {
   "cell_type": "code",
   "execution_count": null,
   "id": "849e32c5",
   "metadata": {},
   "outputs": [],
   "source": [
    "array2 = np.array([['a', 1, 2], [4,5,6]])"
   ]
  },
  {
   "cell_type": "code",
   "execution_count": null,
   "id": "27092474",
   "metadata": {},
   "outputs": [],
   "source": [
    "array2\n",
    "array2.dtype"
   ]
  },
  {
   "cell_type": "code",
   "execution_count": null,
   "id": "f885250e",
   "metadata": {},
   "outputs": [],
   "source": [
    "data.shape #rows, cols"
   ]
  },
  {
   "cell_type": "code",
   "execution_count": null,
   "id": "9bfe20a3",
   "metadata": {},
   "outputs": [],
   "source": [
    "data.dtype"
   ]
  },
  {
   "cell_type": "code",
   "execution_count": null,
   "id": "759f8db2",
   "metadata": {},
   "outputs": [],
   "source": [
    "np.zeros(5)\n",
    "# ==\n",
    "np.array(np.zeros(5))\n",
    "np.zeros((5,6))"
   ]
  },
  {
   "cell_type": "code",
   "execution_count": null,
   "id": "4d024be4",
   "metadata": {},
   "outputs": [],
   "source": [
    "np.empty((4,3, 2))\n",
    "# np.empty((2,3), dtype=float,order='C')"
   ]
  },
  {
   "cell_type": "code",
   "execution_count": null,
   "id": "a04a7e3f",
   "metadata": {},
   "outputs": [],
   "source": [
    "type(np.dtype) #dtype is an obj that contains data about the data (medtadata)"
   ]
  },
  {
   "cell_type": "code",
   "execution_count": null,
   "id": "b777fed8",
   "metadata": {},
   "outputs": [],
   "source": [
    "arr1 = np.array([1,2,3], dtype=np.float64)\n",
    "arr2 = np.array([1,2,3], dtype=np.int32)"
   ]
  },
  {
   "cell_type": "code",
   "execution_count": null,
   "id": "1cb5fcc0",
   "metadata": {},
   "outputs": [],
   "source": [
    "arr1.dtype, arr2"
   ]
  },
  {
   "cell_type": "code",
   "execution_count": null,
   "id": "3b9977da",
   "metadata": {},
   "outputs": [],
   "source": [
    "# changing datatype\n",
    "arr = np.array([1,2,3,4,5])\n",
    "arr.dtype"
   ]
  },
  {
   "cell_type": "code",
   "execution_count": null,
   "id": "cfc515b3",
   "metadata": {},
   "outputs": [],
   "source": [
    "float_arr = arr.astype(np.float64)\n",
    "float_arr.dtype"
   ]
  },
  {
   "cell_type": "code",
   "execution_count": null,
   "id": "054aab25",
   "metadata": {},
   "outputs": [],
   "source": [
    "float_arr.astype(np.int64)"
   ]
  },
  {
   "cell_type": "code",
   "execution_count": null,
   "id": "305f91a5",
   "metadata": {},
   "outputs": [],
   "source": [
    "numeric_strings = np.array([\"1\",\"2\"])\n",
    "numeric_strings.astype(np.float32) #note that np.float32 and float are different\n",
    "float_arr.astype(np.string_)"
   ]
  },
  {
   "cell_type": "code",
   "execution_count": null,
   "id": "5910639f",
   "metadata": {},
   "outputs": [],
   "source": [
    "# as type will always create a new copy of the array\n",
    "# pg:109"
   ]
  },
  {
   "cell_type": "code",
   "execution_count": null,
   "id": "defb282c",
   "metadata": {},
   "outputs": [],
   "source": [
    "import numpy as np\n",
    "arr = np.array([[1., 2., 3.], [4.,5., 6.]])\n",
    "arr"
   ]
  },
  {
   "cell_type": "code",
   "execution_count": null,
   "id": "a33e60e4",
   "metadata": {},
   "outputs": [],
   "source": [
    "arr * arr"
   ]
  },
  {
   "cell_type": "code",
   "execution_count": null,
   "id": "36d56e7d",
   "metadata": {},
   "outputs": [],
   "source": [
    "arr - arr"
   ]
  },
  {
   "cell_type": "code",
   "execution_count": null,
   "id": "2c7b6fd4",
   "metadata": {},
   "outputs": [],
   "source": [
    "arr \n"
   ]
  },
  {
   "cell_type": "code",
   "execution_count": null,
   "id": "80492184",
   "metadata": {},
   "outputs": [],
   "source": [
    "1/arr"
   ]
  },
  {
   "cell_type": "code",
   "execution_count": null,
   "id": "44cc4ec3",
   "metadata": {},
   "outputs": [],
   "source": [
    "arr2 = np.array([[0., 4., 1.], [7., 3., 6.]])\n",
    "arr2"
   ]
  },
  {
   "cell_type": "code",
   "execution_count": null,
   "id": "ab91c29b",
   "metadata": {},
   "outputs": [],
   "source": [
    "arr2 > arr"
   ]
  },
  {
   "cell_type": "code",
   "execution_count": null,
   "id": "7c09e904",
   "metadata": {},
   "outputs": [],
   "source": [
    "arr = np.arange(10)\n",
    "arr"
   ]
  },
  {
   "cell_type": "code",
   "execution_count": null,
   "id": "9ee3758c",
   "metadata": {},
   "outputs": [],
   "source": [
    "arr[5]"
   ]
  },
  {
   "cell_type": "code",
   "execution_count": null,
   "id": "a075a9ec",
   "metadata": {},
   "outputs": [],
   "source": [
    "arr[5:8]"
   ]
  },
  {
   "cell_type": "code",
   "execution_count": null,
   "id": "d83ede74",
   "metadata": {},
   "outputs": [],
   "source": [
    "arr[5:18] = 696969"
   ]
  },
  {
   "cell_type": "code",
   "execution_count": null,
   "id": "211fcf47",
   "metadata": {},
   "outputs": [],
   "source": [
    "arr"
   ]
  },
  {
   "cell_type": "code",
   "execution_count": null,
   "id": "d34e85e8",
   "metadata": {},
   "outputs": [],
   "source": [
    "arr_slice = arr[5:8]"
   ]
  },
  {
   "cell_type": "code",
   "execution_count": null,
   "id": "73f806d9",
   "metadata": {},
   "outputs": [],
   "source": [
    "arr"
   ]
  },
  {
   "cell_type": "code",
   "execution_count": null,
   "id": "e03a17ba",
   "metadata": {},
   "outputs": [],
   "source": [
    "arr_slice"
   ]
  },
  {
   "cell_type": "code",
   "execution_count": null,
   "id": "0846a10d",
   "metadata": {},
   "outputs": [],
   "source": [
    "arr_slice[1] = 172398712 "
   ]
  },
  {
   "cell_type": "code",
   "execution_count": null,
   "id": "66e8457f",
   "metadata": {},
   "outputs": [],
   "source": [
    "arr_slice"
   ]
  },
  {
   "cell_type": "code",
   "execution_count": null,
   "id": "d9cb9de7",
   "metadata": {},
   "outputs": [],
   "source": [
    "arr"
   ]
  },
  {
   "cell_type": "code",
   "execution_count": null,
   "id": "a74e47a7",
   "metadata": {},
   "outputs": [],
   "source": [
    "arr[:] = 23456789\n",
    "arr"
   ]
  },
  {
   "cell_type": "code",
   "execution_count": null,
   "id": "bfc05e75",
   "metadata": {},
   "outputs": [],
   "source": [
    "new_arr = arr[5:8].copy()\n",
    "new_arr"
   ]
  },
  {
   "cell_type": "code",
   "execution_count": null,
   "id": "13c45d0c",
   "metadata": {},
   "outputs": [],
   "source": [
    "new_arr[:] = 0\n",
    "new_arr, arr"
   ]
  },
  {
   "cell_type": "code",
   "execution_count": null,
   "id": "24969100",
   "metadata": {},
   "outputs": [],
   "source": [
    "arr2d = np.array([[1,2,3], [4,5,6], [7,8,9]])\n",
    "arr2d[2], arr2d[0][2]\n",
    "arr2d"
   ]
  },
  {
   "cell_type": "code",
   "execution_count": null,
   "id": "734032b6",
   "metadata": {},
   "outputs": [],
   "source": [
    "arr3d = np.array([[[1, 2, 3], [4, 5, 6]], [[7, 8, 9], [10, 11, 12]]])\n",
    "arr3d, arr3d.shape"
   ]
  },
  {
   "cell_type": "code",
   "execution_count": null,
   "id": "eebb1744",
   "metadata": {},
   "outputs": [],
   "source": [
    "arr3d[0], arr3d[0][0][0]"
   ]
  },
  {
   "cell_type": "code",
   "execution_count": 77,
   "id": "8817acac",
   "metadata": {},
   "outputs": [
    {
     "data": {
      "text/plain": [
       "(array([[[42, 42, 42],\n",
       "         [42, 42, 42]],\n",
       " \n",
       "        [[ 7,  8,  9],\n",
       "         [10, 11, 12]]]),\n",
       " array([[42, 42, 42],\n",
       "        [42, 42, 42]]))"
      ]
     },
     "execution_count": 77,
     "metadata": {},
     "output_type": "execute_result"
    }
   ],
   "source": [
    "old_values = arr3d[0].copy()\n",
    "arr3d[0] = 42\n",
    "arr3d\n",
    "arr3d[0] =old_values\n",
    "arr3d, old_values"
   ]
  },
  {
   "cell_type": "code",
   "execution_count": 80,
   "id": "c477d50d",
   "metadata": {},
   "outputs": [
    {
     "data": {
      "text/plain": [
       "array([7, 8, 9])"
      ]
     },
     "execution_count": 80,
     "metadata": {},
     "output_type": "execute_result"
    }
   ],
   "source": [
    "arr3d[1, 0]"
   ]
  },
  {
   "cell_type": "code",
   "execution_count": null,
   "id": "3b18088f",
   "metadata": {},
   "outputs": [],
   "source": []
  },
  {
   "cell_type": "code",
   "execution_count": 81,
   "id": "eedd61b2",
   "metadata": {},
   "outputs": [
    {
     "data": {
      "text/plain": [
       "array([[1, 2, 3],\n",
       "       [4, 5, 6],\n",
       "       [7, 8, 9]])"
      ]
     },
     "execution_count": 81,
     "metadata": {},
     "output_type": "execute_result"
    }
   ],
   "source": [
    "arr2d"
   ]
  },
  {
   "cell_type": "code",
   "execution_count": 83,
   "id": "beda7a03",
   "metadata": {},
   "outputs": [
    {
     "data": {
      "text/plain": [
       "array([[1, 2, 3],\n",
       "       [4, 5, 6]])"
      ]
     },
     "execution_count": 83,
     "metadata": {},
     "output_type": "execute_result"
    }
   ],
   "source": [
    "arr2d[:2]"
   ]
  },
  {
   "cell_type": "code",
   "execution_count": 87,
   "id": "d3665c77",
   "metadata": {},
   "outputs": [
    {
     "data": {
      "text/plain": [
       "array([4, 5])"
      ]
     },
     "execution_count": 87,
     "metadata": {},
     "output_type": "execute_result"
    }
   ],
   "source": [
    "arr2d[:2, :1]\n",
    "lower_dim_slice = arr2d[1, :2]\n",
    "lower_dim_slice #1dim"
   ]
  },
  {
   "cell_type": "code",
   "execution_count": 88,
   "id": "972665b4",
   "metadata": {},
   "outputs": [
    {
     "data": {
      "text/plain": [
       "(2,)"
      ]
     },
     "execution_count": 88,
     "metadata": {},
     "output_type": "execute_result"
    }
   ],
   "source": [
    "lower_dim_slice.shape #here 2 represents the number of elements in the first dimension, since thae arr has only one dimension"
   ]
  },
  {
   "cell_type": "code",
   "execution_count": 93,
   "id": "1d91093d",
   "metadata": {},
   "outputs": [
    {
     "data": {
      "text/plain": [
       "(2,)"
      ]
     },
     "execution_count": 93,
     "metadata": {},
     "output_type": "execute_result"
    }
   ],
   "source": [
    "arr2d[:2, 2].shape #2,"
   ]
  },
  {
   "cell_type": "code",
   "execution_count": 101,
   "id": "7a31b025",
   "metadata": {},
   "outputs": [
    {
     "data": {
      "text/plain": [
       "(array([[1],\n",
       "        [4],\n",
       "        [7]]),\n",
       " array([1, 4, 7]),\n",
       " (3, 1),\n",
       " (3,))"
      ]
     },
     "execution_count": 101,
     "metadata": {},
     "output_type": "execute_result"
    }
   ],
   "source": [
    "arr2d[:, :1], arr2d[:, 0], arr2d[:, :1].shape, arr2d[:, 0].shape\n",
    "# colon means take the entire axis"
   ]
  },
  {
   "cell_type": "code",
   "execution_count": 109,
   "id": "0e831b51",
   "metadata": {},
   "outputs": [],
   "source": [
    "arr2d = np.array([[1,2,3], [4,5,6], [7,8,9]])\n"
   ]
  },
  {
   "cell_type": "code",
   "execution_count": 110,
   "id": "c7387ee7",
   "metadata": {},
   "outputs": [
    {
     "data": {
      "text/plain": [
       "array([[4., 1.],\n",
       "       [3., 6.]])"
      ]
     },
     "execution_count": 110,
     "metadata": {},
     "output_type": "execute_result"
    }
   ],
   "source": [
    "arr2[:2, 1:]"
   ]
  },
  {
   "cell_type": "code",
   "execution_count": 122,
   "id": "d58a77b1",
   "metadata": {},
   "outputs": [
    {
     "data": {
      "text/plain": [
       "(array([[1]]), array([1]))"
      ]
     },
     "execution_count": 122,
     "metadata": {},
     "output_type": "execute_result"
    }
   ],
   "source": [
    "arr2d = np.array([[1,2,3], [4,5,6], [7,8,9]])\n",
    "\n",
    "arr2d[:1, :1], arr2d[0, :1]"
   ]
  },
  {
   "cell_type": "code",
   "execution_count": null,
   "id": "34410b93",
   "metadata": {},
   "outputs": [],
   "source": [
    "names = np.array"
   ]
  },
  {
   "cell_type": "code",
   "execution_count": 125,
   "id": "0993a5ec",
   "metadata": {},
   "outputs": [
    {
     "data": {
      "text/plain": [
       "array([7])"
      ]
     },
     "execution_count": 125,
     "metadata": {},
     "output_type": "execute_result"
    }
   ],
   "source": [
    "arr2d[2, :1]"
   ]
  },
  {
   "cell_type": "code",
   "execution_count": 128,
   "id": "bba35461",
   "metadata": {},
   "outputs": [
    {
     "data": {
      "text/plain": [
       "array([[4, 5]])"
      ]
     },
     "execution_count": 128,
     "metadata": {},
     "output_type": "execute_result"
    }
   ],
   "source": [
    "arr2d[2:, :] # [[7,8,9]]\n",
    "arr2d[1:2, :2] # [[4,5]]"
   ]
  },
  {
   "cell_type": "code",
   "execution_count": 129,
   "id": "8ef0bf03",
   "metadata": {},
   "outputs": [],
   "source": [
    " names = np.array([\"Bob\", \"Joe\", \"Will\", \"Bob\", \"Will\", \"Joe\", \"Joe\"])"
   ]
  },
  {
   "cell_type": "code",
   "execution_count": 132,
   "id": "6c27511a",
   "metadata": {},
   "outputs": [
    {
     "data": {
      "text/plain": [
       "(array(['Bob', 'Joe', 'Will', 'Bob', 'Will', 'Joe', 'Joe'], dtype='<U4'),\n",
       " array([[  4,   7],\n",
       "        [  0,   2],\n",
       "        [ -5,   6],\n",
       "        [  0,   0],\n",
       "        [  1,   2],\n",
       "        [-12,  -4],\n",
       "        [  3,   4]]))"
      ]
     },
     "execution_count": 132,
     "metadata": {},
     "output_type": "execute_result"
    }
   ],
   "source": [
    "data = np.array([[4, 7], [0, 2], [-5, 6], [0, 0], [1, 2],\n",
    " [-12, -4], [3, 4]])\n",
    "names, data"
   ]
  },
  {
   "cell_type": "code",
   "execution_count": 133,
   "id": "33c14745",
   "metadata": {},
   "outputs": [
    {
     "data": {
      "text/plain": [
       "array([ True, False, False,  True, False, False, False])"
      ]
     },
     "execution_count": 133,
     "metadata": {},
     "output_type": "execute_result"
    }
   ],
   "source": [
    "names == \"Bob\""
   ]
  },
  {
   "cell_type": "code",
   "execution_count": 134,
   "id": "6ffc77ee",
   "metadata": {},
   "outputs": [
    {
     "data": {
      "text/plain": [
       "array([[4, 7],\n",
       "       [0, 0]])"
      ]
     },
     "execution_count": 134,
     "metadata": {},
     "output_type": "execute_result"
    }
   ],
   "source": [
    "data[names == 'Bob']"
   ]
  }
 ],
 "metadata": {
  "kernelspec": {
   "display_name": "Python 3 (ipykernel)",
   "language": "python",
   "name": "python3"
  },
  "language_info": {
   "codemirror_mode": {
    "name": "ipython",
    "version": 3
   },
   "file_extension": ".py",
   "mimetype": "text/x-python",
   "name": "python",
   "nbconvert_exporter": "python",
   "pygments_lexer": "ipython3",
   "version": "3.10.6"
  }
 },
 "nbformat": 4,
 "nbformat_minor": 5
}
