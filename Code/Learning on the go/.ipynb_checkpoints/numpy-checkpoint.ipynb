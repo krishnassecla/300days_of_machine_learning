{
 "cells": [
  {
   "cell_type": "code",
   "execution_count": 2,
   "id": "937f7cb1",
   "metadata": {},
   "outputs": [],
   "source": [
    "import numpy as np"
   ]
  },
  {
   "cell_type": "code",
   "execution_count": 5,
   "id": "ec9eb203",
   "metadata": {},
   "outputs": [],
   "source": [
    "my_arr = np.arange(1_000_000)\n",
    "my_list = list(range(1_000_000))"
   ]
  },
  {
   "cell_type": "code",
   "execution_count": 9,
   "id": "074565bf",
   "metadata": {},
   "outputs": [
    {
     "data": {
      "text/plain": [
       "(array([     0,      1,      2, ..., 999997, 999998, 999999]),)"
      ]
     },
     "execution_count": 9,
     "metadata": {},
     "output_type": "execute_result"
    }
   ],
   "source": [
    "my_arr, "
   ]
  },
  {
   "cell_type": "code",
   "execution_count": 10,
   "id": "5ec2b8c8",
   "metadata": {},
   "outputs": [
    {
     "name": "stdout",
     "output_type": "stream",
     "text": [
      "2.31 ms ± 50.6 µs per loop (mean ± std. dev. of 7 runs, 1,000 loops each)\n"
     ]
    }
   ],
   "source": [
    "%timeit my_arr2 = my_arr * 2"
   ]
  },
  {
   "cell_type": "code",
   "execution_count": 11,
   "id": "4f829dc7",
   "metadata": {},
   "outputs": [
    {
     "name": "stdout",
     "output_type": "stream",
     "text": [
      "57.5 ms ± 3.98 ms per loop (mean ± std. dev. of 7 runs, 10 loops each)\n"
     ]
    }
   ],
   "source": [
    "%timeit my_list2 = [x * 2 for x in my_list]"
   ]
  },
  {
   "cell_type": "code",
   "execution_count": 13,
   "id": "801bfe5e",
   "metadata": {},
   "outputs": [],
   "source": [
    "data = np.array([[1.5, -0.1, 6], [4, 0, -8.5]]) # n-dimensional array"
   ]
  },
  {
   "cell_type": "code",
   "execution_count": 14,
   "id": "8dd37d16",
   "metadata": {},
   "outputs": [
    {
     "data": {
      "text/plain": [
       "array([[ 1.5, -0.1,  6. ],\n",
       "       [ 4. ,  0. , -8.5]])"
      ]
     },
     "execution_count": 14,
     "metadata": {},
     "output_type": "execute_result"
    }
   ],
   "source": [
    "data"
   ]
  },
  {
   "cell_type": "code",
   "execution_count": 19,
   "id": "dfac14ed",
   "metadata": {},
   "outputs": [
    {
     "data": {
      "text/plain": [
       "array([[  3. ,  -0.2,  12. ],\n",
       "       [  8. ,   0. , -17. ]])"
      ]
     },
     "execution_count": 19,
     "metadata": {},
     "output_type": "execute_result"
    }
   ],
   "source": [
    "# performing mathematical operations\n",
    "data * 10\n",
    "data - 1\n",
    "data - 1 * 10\n",
    "data + data"
   ]
  },
  {
   "cell_type": "code",
   "execution_count": 24,
   "id": "849e32c5",
   "metadata": {},
   "outputs": [],
   "source": [
    "array2 = np.array([['a', 1, 2], [4,5,6]])"
   ]
  },
  {
   "cell_type": "code",
   "execution_count": 28,
   "id": "27092474",
   "metadata": {},
   "outputs": [
    {
     "data": {
      "text/plain": [
       "dtype('<U21')"
      ]
     },
     "execution_count": 28,
     "metadata": {},
     "output_type": "execute_result"
    }
   ],
   "source": [
    "array2\n",
    "array2.dtype"
   ]
  },
  {
   "cell_type": "code",
   "execution_count": 26,
   "id": "f885250e",
   "metadata": {},
   "outputs": [
    {
     "data": {
      "text/plain": [
       "(2, 3)"
      ]
     },
     "execution_count": 26,
     "metadata": {},
     "output_type": "execute_result"
    }
   ],
   "source": [
    "data.shape #rows, cols"
   ]
  },
  {
   "cell_type": "code",
   "execution_count": 27,
   "id": "9bfe20a3",
   "metadata": {},
   "outputs": [
    {
     "data": {
      "text/plain": [
       "dtype('float64')"
      ]
     },
     "execution_count": 27,
     "metadata": {},
     "output_type": "execute_result"
    }
   ],
   "source": [
    "data.dtype"
   ]
  },
  {
   "cell_type": "code",
   "execution_count": 33,
   "id": "759f8db2",
   "metadata": {},
   "outputs": [
    {
     "data": {
      "text/plain": [
       "array([[0., 0., 0., 0., 0., 0.],\n",
       "       [0., 0., 0., 0., 0., 0.],\n",
       "       [0., 0., 0., 0., 0., 0.],\n",
       "       [0., 0., 0., 0., 0., 0.],\n",
       "       [0., 0., 0., 0., 0., 0.]])"
      ]
     },
     "execution_count": 33,
     "metadata": {},
     "output_type": "execute_result"
    }
   ],
   "source": [
    "np.zeros(5)\n",
    "# ==\n",
    "np.array(np.zeros(5))\n",
    "np.zeros((5,6))"
   ]
  },
  {
   "cell_type": "code",
   "execution_count": 43,
   "id": "4d024be4",
   "metadata": {},
   "outputs": [
    {
     "data": {
      "text/plain": [
       "array([[[4.64976685e-310, 0.00000000e+000],\n",
       "        [6.90468593e-310, 6.90468497e-310],\n",
       "        [6.90468680e-310, 6.90467594e-310]],\n",
       "\n",
       "       [[6.90468589e-310, 6.90468683e-310],\n",
       "        [6.90468680e-310, 6.90468593e-310],\n",
       "        [6.90468594e-310, 6.90468683e-310]],\n",
       "\n",
       "       [[6.90468591e-310, 1.94903487e+227],\n",
       "        [3.02876088e-152, 2.53064203e-258],\n",
       "        [6.01347002e-154, 5.28555520e+180]],\n",
       "\n",
       "       [[7.47727343e+247, 4.53079576e-090],\n",
       "        [2.35570319e+251, 5.81846707e+180],\n",
       "        [2.34896703e+251, 4.63964605e+199]]])"
      ]
     },
     "execution_count": 43,
     "metadata": {},
     "output_type": "execute_result"
    }
   ],
   "source": [
    "np.empty((4,3, 2))\n",
    "# np.empty((2,3), dtype=float,order='C')"
   ]
  },
  {
   "cell_type": "code",
   "execution_count": 45,
   "id": "a04a7e3f",
   "metadata": {},
   "outputs": [
    {
     "data": {
      "text/plain": [
       "numpy._DTypeMeta"
      ]
     },
     "execution_count": 45,
     "metadata": {},
     "output_type": "execute_result"
    }
   ],
   "source": [
    "type(np.dtype) #dtype is an obj that contains data about the data (medtadata)"
   ]
  },
  {
   "cell_type": "code",
   "execution_count": 47,
   "id": "b777fed8",
   "metadata": {},
   "outputs": [],
   "source": [
    "arr1 = np.array([1,2,3], dtype=np.float64)\n",
    "arr2 = np.array([1,2,3], dtype=np.int32)"
   ]
  },
  {
   "cell_type": "code",
   "execution_count": 50,
   "id": "1cb5fcc0",
   "metadata": {},
   "outputs": [
    {
     "data": {
      "text/plain": [
       "(dtype('float64'), array([1, 2, 3], dtype=int32))"
      ]
     },
     "execution_count": 50,
     "metadata": {},
     "output_type": "execute_result"
    }
   ],
   "source": [
    "arr1.dtype, arr2"
   ]
  },
  {
   "cell_type": "code",
   "execution_count": 51,
   "id": "3b9977da",
   "metadata": {},
   "outputs": [
    {
     "data": {
      "text/plain": [
       "dtype('int64')"
      ]
     },
     "execution_count": 51,
     "metadata": {},
     "output_type": "execute_result"
    }
   ],
   "source": [
    "# changing datatype\n",
    "arr = np.array([1,2,3,4,5])\n",
    "arr.dtype"
   ]
  },
  {
   "cell_type": "code",
   "execution_count": 55,
   "id": "cfc515b3",
   "metadata": {},
   "outputs": [
    {
     "data": {
      "text/plain": [
       "dtype('float64')"
      ]
     },
     "execution_count": 55,
     "metadata": {},
     "output_type": "execute_result"
    }
   ],
   "source": [
    "float_arr = arr.astype(np.float64)\n",
    "float_arr.dtype"
   ]
  },
  {
   "cell_type": "code",
   "execution_count": 57,
   "id": "054aab25",
   "metadata": {},
   "outputs": [
    {
     "data": {
      "text/plain": [
       "array([1, 2, 3, 4, 5])"
      ]
     },
     "execution_count": 57,
     "metadata": {},
     "output_type": "execute_result"
    }
   ],
   "source": [
    "float_arr.astype(np.int64)"
   ]
  },
  {
   "cell_type": "code",
   "execution_count": 60,
   "id": "305f91a5",
   "metadata": {},
   "outputs": [
    {
     "data": {
      "text/plain": [
       "array([b'1.0', b'2.0', b'3.0', b'4.0', b'5.0'], dtype='|S32')"
      ]
     },
     "execution_count": 60,
     "metadata": {},
     "output_type": "execute_result"
    }
   ],
   "source": [
    "numeric_strings = np.array([\"1\",\"2\"])\n",
    "numeric_strings.astype(np.float32) #note that np.float32 and float are different\n",
    "float_arr.astype(np.string_)"
   ]
  },
  {
   "cell_type": "code",
   "execution_count": null,
   "id": "5910639f",
   "metadata": {},
   "outputs": [],
   "source": [
    "# as type will always create a new copy of the array\n",
    "# pg:109"
   ]
  }
 ],
 "metadata": {
  "kernelspec": {
   "display_name": "Python 3 (ipykernel)",
   "language": "python",
   "name": "python3"
  },
  "language_info": {
   "codemirror_mode": {
    "name": "ipython",
    "version": 3
   },
   "file_extension": ".py",
   "mimetype": "text/x-python",
   "name": "python",
   "nbconvert_exporter": "python",
   "pygments_lexer": "ipython3",
   "version": "3.10.10"
  }
 },
 "nbformat": 4,
 "nbformat_minor": 5
}
