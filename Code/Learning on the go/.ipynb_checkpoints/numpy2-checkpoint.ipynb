{
 "cells": [
  {
   "cell_type": "code",
   "execution_count": 1,
   "id": "b749dd01",
   "metadata": {},
   "outputs": [],
   "source": [
    "import numpy as np"
   ]
  },
  {
   "cell_type": "code",
   "execution_count": null,
   "id": "b7099075",
   "metadata": {},
   "outputs": [],
   "source": []
  },
  {
   "cell_type": "code",
   "execution_count": 2,
   "id": "140a6068",
   "metadata": {},
   "outputs": [],
   "source": [
    "# Fancy indexing"
   ]
  },
  {
   "cell_type": "code",
   "execution_count": 3,
   "id": "f0132cfd",
   "metadata": {},
   "outputs": [],
   "source": [
    "arr = np.zeros((8,4))"
   ]
  },
  {
   "cell_type": "code",
   "execution_count": 4,
   "id": "17d662a9",
   "metadata": {},
   "outputs": [],
   "source": [
    "for i  in range(8):\n",
    "    arr[i] = i"
   ]
  },
  {
   "cell_type": "code",
   "execution_count": 5,
   "id": "b9319663",
   "metadata": {},
   "outputs": [
    {
     "data": {
      "text/plain": [
       "array([[0., 0., 0., 0.],\n",
       "       [1., 1., 1., 1.],\n",
       "       [2., 2., 2., 2.],\n",
       "       [3., 3., 3., 3.],\n",
       "       [4., 4., 4., 4.],\n",
       "       [5., 5., 5., 5.],\n",
       "       [6., 6., 6., 6.],\n",
       "       [7., 7., 7., 7.]])"
      ]
     },
     "execution_count": 5,
     "metadata": {},
     "output_type": "execute_result"
    }
   ],
   "source": [
    "arr"
   ]
  },
  {
   "cell_type": "code",
   "execution_count": 6,
   "id": "69bccdf2",
   "metadata": {},
   "outputs": [
    {
     "data": {
      "text/plain": [
       "array([[4., 4., 4., 4.],\n",
       "       [3., 3., 3., 3.],\n",
       "       [0., 0., 0., 0.],\n",
       "       [6., 6., 6., 6.]])"
      ]
     },
     "execution_count": 6,
     "metadata": {},
     "output_type": "execute_result"
    }
   ],
   "source": [
    "arr[[4,3,0,6]]"
   ]
  },
  {
   "cell_type": "code",
   "execution_count": 7,
   "id": "3f4afa82",
   "metadata": {},
   "outputs": [
    {
     "data": {
      "text/plain": [
       "array([[5., 5., 5., 5.],\n",
       "       [4., 4., 4., 4.],\n",
       "       [1., 1., 1., 1.]])"
      ]
     },
     "execution_count": 7,
     "metadata": {},
     "output_type": "execute_result"
    }
   ],
   "source": [
    "arr[[-3, -4, -7]]"
   ]
  },
  {
   "cell_type": "code",
   "execution_count": 8,
   "id": "ebb1641a",
   "metadata": {},
   "outputs": [
    {
     "data": {
      "text/plain": [
       "array([[ 0,  1,  2,  3],\n",
       "       [ 4,  5,  6,  7],\n",
       "       [ 8,  9, 10, 11],\n",
       "       [12, 13, 14, 15],\n",
       "       [16, 17, 18, 19],\n",
       "       [20, 21, 22, 23],\n",
       "       [24, 25, 26, 27],\n",
       "       [28, 29, 30, 31]])"
      ]
     },
     "execution_count": 8,
     "metadata": {},
     "output_type": "execute_result"
    }
   ],
   "source": [
    "arr = np.arange(32).reshape((8,4))\n",
    "arr"
   ]
  },
  {
   "cell_type": "code",
   "execution_count": null,
   "id": "642685ff",
   "metadata": {},
   "outputs": [],
   "source": []
  },
  {
   "cell_type": "code",
   "execution_count": null,
   "id": "7a26bae6",
   "metadata": {},
   "outputs": [],
   "source": []
  },
  {
   "cell_type": "code",
   "execution_count": 9,
   "id": "702883ec",
   "metadata": {},
   "outputs": [
    {
     "data": {
      "text/plain": [
       "array([ 0,  7, 10, 13])"
      ]
     },
     "execution_count": 9,
     "metadata": {},
     "output_type": "execute_result"
    }
   ],
   "source": [
    "arr[[0,1,2,3], [0,3,2,1]]"
   ]
  },
  {
   "cell_type": "code",
   "execution_count": 10,
   "id": "c4cc2919",
   "metadata": {},
   "outputs": [
    {
     "data": {
      "text/plain": [
       "array([[ 4,  7,  5,  6],\n",
       "       [20, 23, 21, 22],\n",
       "       [28, 31, 29, 30],\n",
       "       [ 8, 11,  9, 10]])"
      ]
     },
     "execution_count": 10,
     "metadata": {},
     "output_type": "execute_result"
    }
   ],
   "source": [
    "arr[[1,5,7,2]][:, [0,3,1,2]]"
   ]
  },
  {
   "cell_type": "code",
   "execution_count": 11,
   "id": "fccbc30a",
   "metadata": {},
   "outputs": [],
   "source": [
    "arr[[0,1,2,3], [0,3,2,1]] = 79898"
   ]
  },
  {
   "cell_type": "code",
   "execution_count": 12,
   "id": "dbcdf7b1",
   "metadata": {},
   "outputs": [
    {
     "data": {
      "text/plain": [
       "array([[79898,     1,     2,     3],\n",
       "       [    4,     5,     6, 79898],\n",
       "       [    8,     9, 79898,    11],\n",
       "       [   12, 79898,    14,    15],\n",
       "       [   16,    17,    18,    19],\n",
       "       [   20,    21,    22,    23],\n",
       "       [   24,    25,    26,    27],\n",
       "       [   28,    29,    30,    31]])"
      ]
     },
     "execution_count": 12,
     "metadata": {},
     "output_type": "execute_result"
    }
   ],
   "source": [
    "arr"
   ]
  },
  {
   "cell_type": "code",
   "execution_count": 13,
   "id": "53febec5",
   "metadata": {},
   "outputs": [
    {
     "data": {
      "text/plain": [
       "array([[79898,     4,     8,    12,    16,    20,    24,    28],\n",
       "       [    1,     5,     9, 79898,    17,    21,    25,    29],\n",
       "       [    2,     6, 79898,    14,    18,    22,    26,    30],\n",
       "       [    3, 79898,    11,    15,    19,    23,    27,    31]])"
      ]
     },
     "execution_count": 13,
     "metadata": {},
     "output_type": "execute_result"
    }
   ],
   "source": [
    "arr.T\n"
   ]
  },
  {
   "cell_type": "code",
   "execution_count": 16,
   "id": "ed640533",
   "metadata": {},
   "outputs": [
    {
     "data": {
      "text/plain": [
       "array([[ 0,  1,  0],\n",
       "       [ 1,  2, -2],\n",
       "       [ 6,  3,  2],\n",
       "       [-1,  0, -1],\n",
       "       [ 1,  0,  1]])"
      ]
     },
     "execution_count": 16,
     "metadata": {},
     "output_type": "execute_result"
    }
   ],
   "source": [
    "arr = np.array([[0, 1, 0], [1, 2, -2], [6, 3, 2], [-1, 0, -1], [1, 0, 1\n",
    "]])\n",
    "arr"
   ]
  },
  {
   "cell_type": "code",
   "execution_count": 17,
   "id": "a59d82ae",
   "metadata": {},
   "outputs": [
    {
     "data": {
      "text/plain": [
       "array([[39, 20, 12],\n",
       "       [20, 14,  2],\n",
       "       [12,  2, 10]])"
      ]
     },
     "execution_count": 17,
     "metadata": {},
     "output_type": "execute_result"
    }
   ],
   "source": [
    "np.dot(arr.T, arr) #dot product of vectors"
   ]
  },
  {
   "cell_type": "code",
   "execution_count": 18,
   "id": "9edbbf2c",
   "metadata": {},
   "outputs": [
    {
     "data": {
      "text/plain": [
       "array([[39, 20, 12],\n",
       "       [20, 14,  2],\n",
       "       [12,  2, 10]])"
      ]
     },
     "execution_count": 18,
     "metadata": {},
     "output_type": "execute_result"
    }
   ],
   "source": [
    "arr.T @ arr"
   ]
  },
  {
   "cell_type": "code",
   "execution_count": 19,
   "id": "34e6a614",
   "metadata": {},
   "outputs": [
    {
     "data": {
      "text/plain": [
       "array([[ 0,  1,  6, -1,  1],\n",
       "       [ 1,  2,  3,  0,  0],\n",
       "       [ 0, -2,  2, -1,  1]])"
      ]
     },
     "execution_count": 19,
     "metadata": {},
     "output_type": "execute_result"
    }
   ],
   "source": [
    "arr.swapaxes(0,1)"
   ]
  },
  {
   "cell_type": "code",
   "execution_count": 21,
   "id": "cc604154",
   "metadata": {},
   "outputs": [
    {
     "data": {
      "text/plain": [
       "(array([[ 0,  1,  6, -1,  1],\n",
       "        [ 1,  2,  3,  0,  0],\n",
       "        [ 0, -2,  2, -1,  1]]),\n",
       " array([[ 0,  1,  0],\n",
       "        [ 1,  2, -2],\n",
       "        [ 6,  3,  2],\n",
       "        [-1,  0, -1],\n",
       "        [ 1,  0,  1]]))"
      ]
     },
     "execution_count": 21,
     "metadata": {},
     "output_type": "execute_result"
    }
   ],
   "source": [
    "arr.T, arr"
   ]
  },
  {
   "cell_type": "code",
   "execution_count": null,
   "id": "c11954b5",
   "metadata": {},
   "outputs": [],
   "source": [
    "# Pseudorandom number generation"
   ]
  },
  {
   "cell_type": "code",
   "execution_count": 23,
   "id": "ac3d4663",
   "metadata": {},
   "outputs": [
    {
     "data": {
      "text/plain": [
       "array([[-0.59637838,  1.18167255, -0.22725908, -2.28231358],\n",
       "       [ 1.79907904,  0.91432653, -1.48363219, -2.14157329],\n",
       "       [ 0.6619276 , -1.0391083 ,  0.2496552 ,  0.20080426],\n",
       "       [ 0.01667779,  0.27188537, -0.10677684,  1.09796236]])"
      ]
     },
     "execution_count": 23,
     "metadata": {},
     "output_type": "execute_result"
    }
   ],
   "source": [
    "samples = np.random.standard_normal(size=(4,4))\n",
    "samples"
   ]
  },
  {
   "cell_type": "code",
   "execution_count": 24,
   "id": "71a767d0",
   "metadata": {},
   "outputs": [
    {
     "name": "stdout",
     "output_type": "stream",
     "text": [
      "551 ms ± 17.9 ms per loop (mean ± std. dev. of 7 runs, 1 loop each)\n"
     ]
    }
   ],
   "source": [
    "from random import normalvariate\n",
    "N = 1_000_000\n",
    "%timeit samples = [normalvariate(0,1) for _ in range(N)]"
   ]
  },
  {
   "cell_type": "code",
   "execution_count": 25,
   "id": "d073bbd2",
   "metadata": {},
   "outputs": [
    {
     "name": "stdout",
     "output_type": "stream",
     "text": [
      "20.8 ms ± 156 µs per loop (mean ± std. dev. of 7 runs, 10 loops each)\n"
     ]
    }
   ],
   "source": [
    "%timeit np.random.standard_normal(N)"
   ]
  },
  {
   "cell_type": "code",
   "execution_count": 26,
   "id": "d254524e",
   "metadata": {},
   "outputs": [],
   "source": [
    "rng = np.random.default_rng(seed = 12345)\n",
    "data = rng.standard_normal((2,3))"
   ]
  },
  {
   "cell_type": "code",
   "execution_count": 27,
   "id": "724aee90",
   "metadata": {},
   "outputs": [
    {
     "data": {
      "text/plain": [
       "(Generator(PCG64) at 0x7FA72037E7A0,\n",
       " array([[-1.42382504,  1.26372846, -0.87066174],\n",
       "        [-0.25917323, -0.07534331, -0.74088465]]))"
      ]
     },
     "execution_count": 27,
     "metadata": {},
     "output_type": "execute_result"
    }
   ],
   "source": [
    "rng, data"
   ]
  },
  {
   "cell_type": "code",
   "execution_count": 30,
   "id": "437985de",
   "metadata": {},
   "outputs": [
    {
     "data": {
      "text/plain": [
       "array([[-1.42382504,  1.26372846, -0.87066174, -0.25917323, -0.07534331],\n",
       "       [-0.74088465, -1.3677927 ,  0.6488928 ,  0.36105811, -1.95286306]])"
      ]
     },
     "execution_count": 30,
     "metadata": {},
     "output_type": "execute_result"
    }
   ],
   "source": [
    "abc = np.random.default_rng(seed = 12345)\n",
    "abc.standard_normal((2,5))\n",
    "# we use the rng generator with certain seed value such that the \"random\" values it generates is same everytime"
   ]
  },
  {
   "cell_type": "code",
   "execution_count": 31,
   "id": "13f727f3",
   "metadata": {},
   "outputs": [
    {
     "data": {
      "text/plain": [
       "(array([0, 1, 2, 3, 4, 5, 6, 7, 8, 9]),\n",
       " array([0.        , 1.        , 1.41421356, 1.73205081, 2.        ,\n",
       "        2.23606798, 2.44948974, 2.64575131, 2.82842712, 3.        ]),\n",
       " array([1.00000000e+00, 2.71828183e+00, 7.38905610e+00, 2.00855369e+01,\n",
       "        5.45981500e+01, 1.48413159e+02, 4.03428793e+02, 1.09663316e+03,\n",
       "        2.98095799e+03, 8.10308393e+03]))"
      ]
     },
     "execution_count": 31,
     "metadata": {},
     "output_type": "execute_result"
    }
   ],
   "source": [
    "# universal functions element wise operations or scalar wise operations\n",
    "arr = np.arange(10)\n",
    "arr, np.sqrt(arr), np.exp(arr)"
   ]
  },
  {
   "cell_type": "code",
   "execution_count": 32,
   "id": "d827926c",
   "metadata": {},
   "outputs": [
    {
     "data": {
      "text/plain": [
       "array(8)"
      ]
     },
     "execution_count": 32,
     "metadata": {},
     "output_type": "execute_result"
    }
   ],
   "source": [
    "np.array(8)"
   ]
  },
  {
   "cell_type": "code",
   "execution_count": 58,
   "id": "b807fd73",
   "metadata": {},
   "outputs": [
    {
     "data": {
      "text/plain": [
       "array([0.7364691 , 0.68618251, 1.21500461, 0.21605944, 1.58453379,\n",
       "       0.28224121, 0.90954639, 0.39507157])"
      ]
     },
     "execution_count": 58,
     "metadata": {},
     "output_type": "execute_result"
    }
   ],
   "source": [
    "x = rng.standard_normal(8)\n",
    "y = rng.standard_normal(8)\n",
    "x, y\n",
    "np.maximum(x, y)"
   ]
  },
  {
   "cell_type": "code",
   "execution_count": 61,
   "id": "d6466ce7",
   "metadata": {},
   "outputs": [
    {
     "data": {
      "text/plain": [
       "(array([-10.30665854,   2.99218328,  -8.46239971,   1.966203  ,\n",
       "         -8.99637825,  -2.56605429,  16.72547766,  -3.75269646]),\n",
       " array([-0.30665854,  0.99218328, -0.46239971,  0.966203  , -0.99637825,\n",
       "        -0.56605429,  0.72547766, -0.75269646]),\n",
       " array([-10.,   2.,  -8.,   1.,  -8.,  -2.,  16.,  -3.]))"
      ]
     },
     "execution_count": 61,
     "metadata": {},
     "output_type": "execute_result"
    }
   ],
   "source": [
    "arr = rng.standard_normal(8) * 10\n",
    "remainder, whole_part = np.modf(arr)\n",
    "arr, remainder, whole_part"
   ]
  },
  {
   "cell_type": "code",
   "execution_count": 64,
   "id": "149f4a5c",
   "metadata": {},
   "outputs": [
    {
     "data": {
      "text/plain": [
       "array([-9.30665854,  3.99218328, -7.46239971,  2.966203  , -7.99637825,\n",
       "       -1.56605429, 17.72547766, -2.75269646])"
      ]
     },
     "execution_count": 64,
     "metadata": {},
     "output_type": "execute_result"
    }
   ],
   "source": [
    "out = np.zeros_like(arr)\n",
    "np.add(arr, 1)"
   ]
  },
  {
   "cell_type": "code",
   "execution_count": 65,
   "id": "8b5f3c84",
   "metadata": {},
   "outputs": [
    {
     "data": {
      "text/plain": [
       "array([-9.30665854,  3.99218328, -7.46239971,  2.966203  , -7.99637825,\n",
       "       -1.56605429, 17.72547766, -2.75269646])"
      ]
     },
     "execution_count": 65,
     "metadata": {},
     "output_type": "execute_result"
    }
   ],
   "source": [
    "np.add(arr, 1, out= out)"
   ]
  },
  {
   "cell_type": "code",
   "execution_count": 66,
   "id": "5a745134",
   "metadata": {},
   "outputs": [
    {
     "data": {
      "text/plain": [
       "array([-9.30665854,  3.99218328, -7.46239971,  2.966203  , -7.99637825,\n",
       "       -1.56605429, 17.72547766, -2.75269646])"
      ]
     },
     "execution_count": 66,
     "metadata": {},
     "output_type": "execute_result"
    }
   ],
   "source": [
    "out"
   ]
  },
  {
   "cell_type": "code",
   "execution_count": 74,
   "id": "fc0b152e",
   "metadata": {},
   "outputs": [
    {
     "data": {
      "text/plain": [
       "(array([-10.30665854,   2.99218328,  -8.46239971,   1.966203  ,\n",
       "         -8.99637825,  -2.56605429,  16.72547766,  -3.75269646]),\n",
       " array([-9.30665854,  3.99218328, -7.46239971,  2.966203  , -7.99637825,\n",
       "        -1.56605429, 17.72547766, -2.75269646]))"
      ]
     },
     "execution_count": 74,
     "metadata": {},
     "output_type": "execute_result"
    }
   ],
   "source": [
    "np.add(arr,1, out=out)\n",
    "arr, out"
   ]
  },
  {
   "cell_type": "code",
   "execution_count": null,
   "id": "45f00966",
   "metadata": {},
   "outputs": [],
   "source": [
    "#array oriendted programming with arrays"
   ]
  },
  {
   "cell_type": "code",
   "execution_count": 78,
   "id": "032cbd95",
   "metadata": {},
   "outputs": [
    {
     "data": {
      "text/plain": [
       "(array([[-5.  , -5.  , -5.  , ..., -5.  , -5.  , -5.  ],\n",
       "        [-4.99, -4.99, -4.99, ..., -4.99, -4.99, -4.99],\n",
       "        [-4.98, -4.98, -4.98, ..., -4.98, -4.98, -4.98],\n",
       "        ...,\n",
       "        [ 4.97,  4.97,  4.97, ...,  4.97,  4.97,  4.97],\n",
       "        [ 4.98,  4.98,  4.98, ...,  4.98,  4.98,  4.98],\n",
       "        [ 4.99,  4.99,  4.99, ...,  4.99,  4.99,  4.99]]),\n",
       " array([[-5.  , -4.99, -4.98, ...,  4.97,  4.98,  4.99],\n",
       "        [-5.  , -4.99, -4.98, ...,  4.97,  4.98,  4.99],\n",
       "        [-5.  , -4.99, -4.98, ...,  4.97,  4.98,  4.99],\n",
       "        ...,\n",
       "        [-5.  , -4.99, -4.98, ...,  4.97,  4.98,  4.99],\n",
       "        [-5.  , -4.99, -4.98, ...,  4.97,  4.98,  4.99],\n",
       "        [-5.  , -4.99, -4.98, ...,  4.97,  4.98,  4.99]]))"
      ]
     },
     "execution_count": 78,
     "metadata": {},
     "output_type": "execute_result"
    }
   ],
   "source": [
    "points = np.arange(-5, 5, 0.01)\n",
    "xs, ys = np.meshgrid(points, points)\n",
    "ys, xs"
   ]
  },
  {
   "cell_type": "code",
   "execution_count": null,
   "id": "63ec049b",
   "metadata": {},
   "outputs": [],
   "source": [
    "z = np.sqrt(xs ** 2 + ys ** 2)\n",
    "z"
   ]
  }
 ],
 "metadata": {
  "kernelspec": {
   "display_name": "Python 3 (ipykernel)",
   "language": "python",
   "name": "python3"
  },
  "language_info": {
   "codemirror_mode": {
    "name": "ipython",
    "version": 3
   },
   "file_extension": ".py",
   "mimetype": "text/x-python",
   "name": "python",
   "nbconvert_exporter": "python",
   "pygments_lexer": "ipython3",
   "version": "3.10.10"
  }
 },
 "nbformat": 4,
 "nbformat_minor": 5
}
