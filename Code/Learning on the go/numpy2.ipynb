{
 "cells": [
  {
   "cell_type": "code",
   "execution_count": 1,
   "id": "b749dd01",
   "metadata": {},
   "outputs": [],
   "source": [
    "import numpy as np"
   ]
  },
  {
   "cell_type": "code",
   "execution_count": null,
   "id": "7cb6ed2c",
   "metadata": {},
   "outputs": [],
   "source": []
  },
  {
   "cell_type": "code",
   "execution_count": null,
   "id": "b7099075",
   "metadata": {},
   "outputs": [],
   "source": []
  },
  {
   "cell_type": "code",
   "execution_count": 2,
   "id": "140a6068",
   "metadata": {},
   "outputs": [],
   "source": [
    "# Fancy indexing"
   ]
  },
  {
   "cell_type": "code",
   "execution_count": 3,
   "id": "f0132cfd",
   "metadata": {},
   "outputs": [],
   "source": [
    "arr = np.zeros((8,4))"
   ]
  },
  {
   "cell_type": "code",
   "execution_count": 4,
   "id": "17d662a9",
   "metadata": {},
   "outputs": [],
   "source": [
    "for i  in range(8):\n",
    "    arr[i] = i"
   ]
  },
  {
   "cell_type": "code",
   "execution_count": 5,
   "id": "b9319663",
   "metadata": {},
   "outputs": [
    {
     "data": {
      "text/plain": [
       "array([[0., 0., 0., 0.],\n",
       "       [1., 1., 1., 1.],\n",
       "       [2., 2., 2., 2.],\n",
       "       [3., 3., 3., 3.],\n",
       "       [4., 4., 4., 4.],\n",
       "       [5., 5., 5., 5.],\n",
       "       [6., 6., 6., 6.],\n",
       "       [7., 7., 7., 7.]])"
      ]
     },
     "execution_count": 5,
     "metadata": {},
     "output_type": "execute_result"
    }
   ],
   "source": [
    "arr"
   ]
  },
  {
   "cell_type": "code",
   "execution_count": 6,
   "id": "69bccdf2",
   "metadata": {},
   "outputs": [
    {
     "data": {
      "text/plain": [
       "array([[4., 4., 4., 4.],\n",
       "       [3., 3., 3., 3.],\n",
       "       [0., 0., 0., 0.],\n",
       "       [6., 6., 6., 6.]])"
      ]
     },
     "execution_count": 6,
     "metadata": {},
     "output_type": "execute_result"
    }
   ],
   "source": [
    "arr[[4,3,0,6]]"
   ]
  },
  {
   "cell_type": "code",
   "execution_count": 7,
   "id": "3f4afa82",
   "metadata": {},
   "outputs": [
    {
     "data": {
      "text/plain": [
       "array([[5., 5., 5., 5.],\n",
       "       [4., 4., 4., 4.],\n",
       "       [1., 1., 1., 1.]])"
      ]
     },
     "execution_count": 7,
     "metadata": {},
     "output_type": "execute_result"
    }
   ],
   "source": [
    "arr[[-3, -4, -7]]"
   ]
  },
  {
   "cell_type": "code",
   "execution_count": 8,
   "id": "ebb1641a",
   "metadata": {},
   "outputs": [
    {
     "data": {
      "text/plain": [
       "array([[ 0,  1,  2,  3],\n",
       "       [ 4,  5,  6,  7],\n",
       "       [ 8,  9, 10, 11],\n",
       "       [12, 13, 14, 15],\n",
       "       [16, 17, 18, 19],\n",
       "       [20, 21, 22, 23],\n",
       "       [24, 25, 26, 27],\n",
       "       [28, 29, 30, 31]])"
      ]
     },
     "execution_count": 8,
     "metadata": {},
     "output_type": "execute_result"
    }
   ],
   "source": [
    "arr = np.arange(32).reshape((8,4))\n",
    "arr"
   ]
  },
  {
   "cell_type": "code",
   "execution_count": null,
   "id": "642685ff",
   "metadata": {},
   "outputs": [],
   "source": []
  },
  {
   "cell_type": "code",
   "execution_count": null,
   "id": "7a26bae6",
   "metadata": {},
   "outputs": [],
   "source": []
  },
  {
   "cell_type": "code",
   "execution_count": 9,
   "id": "702883ec",
   "metadata": {},
   "outputs": [
    {
     "data": {
      "text/plain": [
       "array([ 0,  7, 10, 13])"
      ]
     },
     "execution_count": 9,
     "metadata": {},
     "output_type": "execute_result"
    }
   ],
   "source": [
    "arr[[0,1,2,3], [0,3,2,1]]"
   ]
  },
  {
   "cell_type": "code",
   "execution_count": 10,
   "id": "c4cc2919",
   "metadata": {},
   "outputs": [
    {
     "data": {
      "text/plain": [
       "array([[ 4,  7,  5,  6],\n",
       "       [20, 23, 21, 22],\n",
       "       [28, 31, 29, 30],\n",
       "       [ 8, 11,  9, 10]])"
      ]
     },
     "execution_count": 10,
     "metadata": {},
     "output_type": "execute_result"
    }
   ],
   "source": [
    "arr[[1,5,7,2]][:, [0,3,1,2]]"
   ]
  },
  {
   "cell_type": "code",
   "execution_count": 11,
   "id": "fccbc30a",
   "metadata": {},
   "outputs": [],
   "source": [
    "arr[[0,1,2,3], [0,3,2,1]] = 79898"
   ]
  },
  {
   "cell_type": "code",
   "execution_count": 12,
   "id": "dbcdf7b1",
   "metadata": {},
   "outputs": [
    {
     "data": {
      "text/plain": [
       "array([[79898,     1,     2,     3],\n",
       "       [    4,     5,     6, 79898],\n",
       "       [    8,     9, 79898,    11],\n",
       "       [   12, 79898,    14,    15],\n",
       "       [   16,    17,    18,    19],\n",
       "       [   20,    21,    22,    23],\n",
       "       [   24,    25,    26,    27],\n",
       "       [   28,    29,    30,    31]])"
      ]
     },
     "execution_count": 12,
     "metadata": {},
     "output_type": "execute_result"
    }
   ],
   "source": [
    "arr"
   ]
  },
  {
   "cell_type": "code",
   "execution_count": 13,
   "id": "53febec5",
   "metadata": {},
   "outputs": [
    {
     "data": {
      "text/plain": [
       "array([[79898,     4,     8,    12,    16,    20,    24,    28],\n",
       "       [    1,     5,     9, 79898,    17,    21,    25,    29],\n",
       "       [    2,     6, 79898,    14,    18,    22,    26,    30],\n",
       "       [    3, 79898,    11,    15,    19,    23,    27,    31]])"
      ]
     },
     "execution_count": 13,
     "metadata": {},
     "output_type": "execute_result"
    }
   ],
   "source": [
    "arr.T\n"
   ]
  },
  {
   "cell_type": "code",
   "execution_count": 14,
   "id": "ed640533",
   "metadata": {},
   "outputs": [
    {
     "data": {
      "text/plain": [
       "array([[ 0,  1,  0],\n",
       "       [ 1,  2, -2],\n",
       "       [ 6,  3,  2],\n",
       "       [-1,  0, -1],\n",
       "       [ 1,  0,  1]])"
      ]
     },
     "execution_count": 14,
     "metadata": {},
     "output_type": "execute_result"
    }
   ],
   "source": [
    "arr = np.array([[0, 1, 0], [1, 2, -2], [6, 3, 2], [-1, 0, -1], [1, 0, 1\n",
    "]])\n",
    "arr"
   ]
  },
  {
   "cell_type": "code",
   "execution_count": 15,
   "id": "a59d82ae",
   "metadata": {},
   "outputs": [
    {
     "data": {
      "text/plain": [
       "array([[39, 20, 12],\n",
       "       [20, 14,  2],\n",
       "       [12,  2, 10]])"
      ]
     },
     "execution_count": 15,
     "metadata": {},
     "output_type": "execute_result"
    }
   ],
   "source": [
    "np.dot(arr.T, arr) #dot product of vectors"
   ]
  },
  {
   "cell_type": "code",
   "execution_count": 16,
   "id": "9edbbf2c",
   "metadata": {},
   "outputs": [
    {
     "data": {
      "text/plain": [
       "array([[39, 20, 12],\n",
       "       [20, 14,  2],\n",
       "       [12,  2, 10]])"
      ]
     },
     "execution_count": 16,
     "metadata": {},
     "output_type": "execute_result"
    }
   ],
   "source": [
    "arr.T @ arr"
   ]
  },
  {
   "cell_type": "code",
   "execution_count": 17,
   "id": "34e6a614",
   "metadata": {},
   "outputs": [
    {
     "data": {
      "text/plain": [
       "array([[ 0,  1,  6, -1,  1],\n",
       "       [ 1,  2,  3,  0,  0],\n",
       "       [ 0, -2,  2, -1,  1]])"
      ]
     },
     "execution_count": 17,
     "metadata": {},
     "output_type": "execute_result"
    }
   ],
   "source": [
    "arr.swapaxes(0,1)"
   ]
  },
  {
   "cell_type": "code",
   "execution_count": 18,
   "id": "cc604154",
   "metadata": {},
   "outputs": [
    {
     "data": {
      "text/plain": [
       "(array([[ 0,  1,  6, -1,  1],\n",
       "        [ 1,  2,  3,  0,  0],\n",
       "        [ 0, -2,  2, -1,  1]]),\n",
       " array([[ 0,  1,  0],\n",
       "        [ 1,  2, -2],\n",
       "        [ 6,  3,  2],\n",
       "        [-1,  0, -1],\n",
       "        [ 1,  0,  1]]))"
      ]
     },
     "execution_count": 18,
     "metadata": {},
     "output_type": "execute_result"
    }
   ],
   "source": [
    "arr.T, arr"
   ]
  },
  {
   "cell_type": "code",
   "execution_count": 19,
   "id": "c11954b5",
   "metadata": {},
   "outputs": [],
   "source": [
    "# Pseudorandom number generation"
   ]
  },
  {
   "cell_type": "code",
   "execution_count": 20,
   "id": "ac3d4663",
   "metadata": {},
   "outputs": [
    {
     "data": {
      "text/plain": [
       "array([[ 0.20114812, -0.27807518,  1.35030797,  0.48087211],\n",
       "       [-0.78048188,  1.42767788,  0.03170475,  0.49992458],\n",
       "       [ 0.41257223, -0.21779016,  0.42021757, -1.37149561],\n",
       "       [-0.71429204, -1.83528536,  1.11144304,  1.2534599 ]])"
      ]
     },
     "execution_count": 20,
     "metadata": {},
     "output_type": "execute_result"
    }
   ],
   "source": [
    "samples = np.random.standard_normal(size=(4,4))\n",
    "samples"
   ]
  },
  {
   "cell_type": "code",
   "execution_count": 21,
   "id": "71a767d0",
   "metadata": {},
   "outputs": [
    {
     "name": "stdout",
     "output_type": "stream",
     "text": [
      "532 ms ± 35.4 ms per loop (mean ± std. dev. of 7 runs, 1 loop each)\n"
     ]
    }
   ],
   "source": [
    "from random import normalvariate\n",
    "N = 1_000_000\n",
    "%timeit samples = [normalvariate(0,1) for _ in range(N)]"
   ]
  },
  {
   "cell_type": "code",
   "execution_count": 22,
   "id": "d073bbd2",
   "metadata": {},
   "outputs": [
    {
     "name": "stdout",
     "output_type": "stream",
     "text": [
      "21.1 ms ± 901 µs per loop (mean ± std. dev. of 7 runs, 10 loops each)\n"
     ]
    }
   ],
   "source": [
    "%timeit np.random.standard_normal(N)"
   ]
  },
  {
   "cell_type": "code",
   "execution_count": 23,
   "id": "d254524e",
   "metadata": {},
   "outputs": [],
   "source": [
    "rng = np.random.default_rng(seed = 12345)\n",
    "data = rng.standard_normal((2,3))"
   ]
  },
  {
   "cell_type": "code",
   "execution_count": 24,
   "id": "724aee90",
   "metadata": {},
   "outputs": [
    {
     "data": {
      "text/plain": [
       "(Generator(PCG64) at 0x7F572FA90660,\n",
       " array([[-1.42382504,  1.26372846, -0.87066174],\n",
       "        [-0.25917323, -0.07534331, -0.74088465]]))"
      ]
     },
     "execution_count": 24,
     "metadata": {},
     "output_type": "execute_result"
    }
   ],
   "source": [
    "rng, data"
   ]
  },
  {
   "cell_type": "code",
   "execution_count": 25,
   "id": "437985de",
   "metadata": {},
   "outputs": [
    {
     "data": {
      "text/plain": [
       "array([[-1.42382504,  1.26372846, -0.87066174, -0.25917323, -0.07534331],\n",
       "       [-0.74088465, -1.3677927 ,  0.6488928 ,  0.36105811, -1.95286306]])"
      ]
     },
     "execution_count": 25,
     "metadata": {},
     "output_type": "execute_result"
    }
   ],
   "source": [
    "abc = np.random.default_rng(seed = 12345)\n",
    "abc.standard_normal((2,5))\n",
    "# we use the rng generator with certain seed value such that the \"random\" values it generates is same everytime"
   ]
  },
  {
   "cell_type": "code",
   "execution_count": 26,
   "id": "13f727f3",
   "metadata": {},
   "outputs": [
    {
     "data": {
      "text/plain": [
       "(array([0, 1, 2, 3, 4, 5, 6, 7, 8, 9]),\n",
       " array([0.        , 1.        , 1.41421356, 1.73205081, 2.        ,\n",
       "        2.23606798, 2.44948974, 2.64575131, 2.82842712, 3.        ]),\n",
       " array([1.00000000e+00, 2.71828183e+00, 7.38905610e+00, 2.00855369e+01,\n",
       "        5.45981500e+01, 1.48413159e+02, 4.03428793e+02, 1.09663316e+03,\n",
       "        2.98095799e+03, 8.10308393e+03]))"
      ]
     },
     "execution_count": 26,
     "metadata": {},
     "output_type": "execute_result"
    }
   ],
   "source": [
    "# universal functions element wise operations or scalar wise operations\n",
    "arr = np.arange(10)\n",
    "arr, np.sqrt(arr), np.exp(arr)"
   ]
  },
  {
   "cell_type": "code",
   "execution_count": 27,
   "id": "d827926c",
   "metadata": {},
   "outputs": [
    {
     "data": {
      "text/plain": [
       "array(8)"
      ]
     },
     "execution_count": 27,
     "metadata": {},
     "output_type": "execute_result"
    }
   ],
   "source": [
    "np.array(8)"
   ]
  },
  {
   "cell_type": "code",
   "execution_count": 28,
   "id": "b807fd73",
   "metadata": {},
   "outputs": [
    {
     "data": {
      "text/plain": [
       "array([-0.46695317,  0.6488928 ,  0.78884434, -1.25666813,  2.34740965,\n",
       "        1.39897899,  1.32229806,  0.90219827])"
      ]
     },
     "execution_count": 28,
     "metadata": {},
     "output_type": "execute_result"
    }
   ],
   "source": [
    "x = rng.standard_normal(8)\n",
    "y = rng.standard_normal(8)\n",
    "x, y\n",
    "np.maximum(x, y)"
   ]
  },
  {
   "cell_type": "code",
   "execution_count": 29,
   "id": "d6466ce7",
   "metadata": {},
   "outputs": [
    {
     "data": {
      "text/plain": [
       "(array([  9.02919341, -16.21582734,  -1.58189261,   4.49483932,\n",
       "        -13.43601072,  -0.81687591,  17.24739932,  26.18159426]),\n",
       " array([ 0.02919341, -0.21582734, -0.58189261,  0.49483932, -0.43601072,\n",
       "        -0.81687591,  0.24739932,  0.18159426]),\n",
       " array([  9., -16.,  -1.,   4., -13.,  -0.,  17.,  26.]))"
      ]
     },
     "execution_count": 29,
     "metadata": {},
     "output_type": "execute_result"
    }
   ],
   "source": [
    "arr = rng.standard_normal(8) * 10\n",
    "remainder, whole_part = np.modf(arr)\n",
    "arr, remainder, whole_part"
   ]
  },
  {
   "cell_type": "code",
   "execution_count": 30,
   "id": "149f4a5c",
   "metadata": {},
   "outputs": [
    {
     "data": {
      "text/plain": [
       "array([ 10.02919341, -15.21582734,  -0.58189261,   5.49483932,\n",
       "       -12.43601072,   0.18312409,  18.24739932,  27.18159426])"
      ]
     },
     "execution_count": 30,
     "metadata": {},
     "output_type": "execute_result"
    }
   ],
   "source": [
    "out = np.zeros_like(arr)\n",
    "np.add(arr, 1)"
   ]
  },
  {
   "cell_type": "code",
   "execution_count": 31,
   "id": "8b5f3c84",
   "metadata": {},
   "outputs": [
    {
     "data": {
      "text/plain": [
       "array([ 10.02919341, -15.21582734,  -0.58189261,   5.49483932,\n",
       "       -12.43601072,   0.18312409,  18.24739932,  27.18159426])"
      ]
     },
     "execution_count": 31,
     "metadata": {},
     "output_type": "execute_result"
    }
   ],
   "source": [
    "np.add(arr, 1, out= out)"
   ]
  },
  {
   "cell_type": "code",
   "execution_count": 32,
   "id": "5a745134",
   "metadata": {},
   "outputs": [
    {
     "data": {
      "text/plain": [
       "array([ 10.02919341, -15.21582734,  -0.58189261,   5.49483932,\n",
       "       -12.43601072,   0.18312409,  18.24739932,  27.18159426])"
      ]
     },
     "execution_count": 32,
     "metadata": {},
     "output_type": "execute_result"
    }
   ],
   "source": [
    "out"
   ]
  },
  {
   "cell_type": "code",
   "execution_count": 33,
   "id": "fc0b152e",
   "metadata": {},
   "outputs": [
    {
     "data": {
      "text/plain": [
       "(array([  9.02919341, -16.21582734,  -1.58189261,   4.49483932,\n",
       "        -13.43601072,  -0.81687591,  17.24739932,  26.18159426]),\n",
       " array([ 10.02919341, -15.21582734,  -0.58189261,   5.49483932,\n",
       "        -12.43601072,   0.18312409,  18.24739932,  27.18159426]))"
      ]
     },
     "execution_count": 33,
     "metadata": {},
     "output_type": "execute_result"
    }
   ],
   "source": [
    "np.add(arr,1, out=out)\n",
    "arr, out"
   ]
  },
  {
   "cell_type": "code",
   "execution_count": 34,
   "id": "45f00966",
   "metadata": {},
   "outputs": [],
   "source": [
    "#array oriendted programming with arrays"
   ]
  },
  {
   "cell_type": "code",
   "execution_count": 35,
   "id": "032cbd95",
   "metadata": {},
   "outputs": [
    {
     "data": {
      "text/plain": [
       "(array([[-5.  , -5.  , -5.  , ..., -5.  , -5.  , -5.  ],\n",
       "        [-4.99, -4.99, -4.99, ..., -4.99, -4.99, -4.99],\n",
       "        [-4.98, -4.98, -4.98, ..., -4.98, -4.98, -4.98],\n",
       "        ...,\n",
       "        [ 4.97,  4.97,  4.97, ...,  4.97,  4.97,  4.97],\n",
       "        [ 4.98,  4.98,  4.98, ...,  4.98,  4.98,  4.98],\n",
       "        [ 4.99,  4.99,  4.99, ...,  4.99,  4.99,  4.99]]),\n",
       " array([[-5.  , -4.99, -4.98, ...,  4.97,  4.98,  4.99],\n",
       "        [-5.  , -4.99, -4.98, ...,  4.97,  4.98,  4.99],\n",
       "        [-5.  , -4.99, -4.98, ...,  4.97,  4.98,  4.99],\n",
       "        ...,\n",
       "        [-5.  , -4.99, -4.98, ...,  4.97,  4.98,  4.99],\n",
       "        [-5.  , -4.99, -4.98, ...,  4.97,  4.98,  4.99],\n",
       "        [-5.  , -4.99, -4.98, ...,  4.97,  4.98,  4.99]]))"
      ]
     },
     "execution_count": 35,
     "metadata": {},
     "output_type": "execute_result"
    }
   ],
   "source": [
    "points = np.arange(-5, 5, 0.01)\n",
    "xs, ys = np.meshgrid(points, points)\n",
    "ys, xs"
   ]
  },
  {
   "cell_type": "code",
   "execution_count": 36,
   "id": "63ec049b",
   "metadata": {},
   "outputs": [
    {
     "data": {
      "text/plain": [
       "array([[7.07106781, 7.06400028, 7.05693985, ..., 7.04988652, 7.05693985,\n",
       "        7.06400028],\n",
       "       [7.06400028, 7.05692568, 7.04985815, ..., 7.04279774, 7.04985815,\n",
       "        7.05692568],\n",
       "       [7.05693985, 7.04985815, 7.04278354, ..., 7.03571603, 7.04278354,\n",
       "        7.04985815],\n",
       "       ...,\n",
       "       [7.04988652, 7.04279774, 7.03571603, ..., 7.0286414 , 7.03571603,\n",
       "        7.04279774],\n",
       "       [7.05693985, 7.04985815, 7.04278354, ..., 7.03571603, 7.04278354,\n",
       "        7.04985815],\n",
       "       [7.06400028, 7.05692568, 7.04985815, ..., 7.04279774, 7.04985815,\n",
       "        7.05692568]])"
      ]
     },
     "execution_count": 36,
     "metadata": {},
     "output_type": "execute_result"
    }
   ],
   "source": [
    "z = np.sqrt(xs ** 2 + ys ** 2)\n",
    "z\n"
   ]
  },
  {
   "cell_type": "code",
   "execution_count": 37,
   "id": "2658f84d",
   "metadata": {},
   "outputs": [],
   "source": [
    "import matplotlib.pyplot as plt\n"
   ]
  },
  {
   "cell_type": "code",
   "execution_count": 38,
   "id": "7120e50a",
   "metadata": {
    "scrolled": true
   },
   "outputs": [
    {
     "data": {
      "text/plain": [
       "Text(0.5, 1.0, 'Image plot of $\\\\sqrt {x^2 + y^2}$ for a grid of values')"
      ]
     },
     "execution_count": 38,
     "metadata": {},
     "output_type": "execute_result"
    },
    {
     "data": {
      "image/png": "[encoded data removed]",
      "text/plain": [
       "<Figure size 640x480 with 2 Axes>"
      ]
     },
     "metadata": {},
     "output_type": "display_data"
    }
   ],
   "source": [
    "plt.imshow(z, cmap = plt.cm.gray, extent=[-3,5,-5,5])\n",
    "plt.colorbar()\n",
    "plt.title(\"Image plot of $\\sqrt {x^2 + y^2}$ for a grid of values\")\n",
    "# Text(0.5, 1.0, \"Image plot of $\\\\sqrt{x^2 + y^2} for a grid of values\")\n"
   ]
  },
  {
   "cell_type": "code",
   "execution_count": 39,
   "id": "fb99b263",
   "metadata": {},
   "outputs": [],
   "source": [
    "plt.close('all')"
   ]
  },
  {
   "cell_type": "code",
   "execution_count": 40,
   "id": "8a6f0f12",
   "metadata": {},
   "outputs": [],
   "source": [
    "xarr = np.array([1.1, 1.2, 1.3, 1.4, 1.5])\n",
    "yarr = np.array([2.1, 2.2, 2.3, 2.4, 2.5])\n",
    "cond = np.array([True, False, True, True, False])"
   ]
  },
  {
   "cell_type": "code",
   "execution_count": 41,
   "id": "3be484c1",
   "metadata": {},
   "outputs": [],
   "source": [
    "result = [(x if c else y) for x,y,c in zip(xarr, yarr, cond)]"
   ]
  },
  {
   "cell_type": "code",
   "execution_count": 42,
   "id": "5e7cd073",
   "metadata": {},
   "outputs": [],
   "source": [
    "result = np.where(cond, xarr, yarr)"
   ]
  },
  {
   "cell_type": "code",
   "execution_count": 43,
   "id": "9b5c22b8",
   "metadata": {},
   "outputs": [
    {
     "data": {
      "text/plain": [
       "array([1.1, 2.2, 1.3, 1.4, 2.5])"
      ]
     },
     "execution_count": 43,
     "metadata": {},
     "output_type": "execute_result"
    }
   ],
   "source": [
    "result"
   ]
  },
  {
   "cell_type": "code",
   "execution_count": 44,
   "id": "6ed2f792",
   "metadata": {},
   "outputs": [
    {
     "data": {
      "text/plain": [
       "array([[ 0.77736134,  0.8286332 , -0.95898831, -1.20938829],\n",
       "       [-1.41229201,  0.54154683,  0.7519394 , -0.65876032],\n",
       "       [-1.22867499,  0.25755777,  0.31290292, -0.13081169],\n",
       "       [ 1.26998312, -0.09296246, -0.06615089, -1.10821447]])"
      ]
     },
     "execution_count": 44,
     "metadata": {},
     "output_type": "execute_result"
    }
   ],
   "source": [
    "arr = rng.standard_normal((4,4))\n",
    "arr"
   ]
  },
  {
   "cell_type": "code",
   "execution_count": 45,
   "id": "7e5aab73",
   "metadata": {},
   "outputs": [
    {
     "data": {
      "text/plain": [
       "array([[ True,  True, False, False],\n",
       "       [False,  True,  True, False],\n",
       "       [False,  True,  True, False],\n",
       "       [ True, False, False, False]])"
      ]
     },
     "execution_count": 45,
     "metadata": {},
     "output_type": "execute_result"
    }
   ],
   "source": [
    "arr > 0"
   ]
  },
  {
   "cell_type": "code",
   "execution_count": 46,
   "id": "237383e1",
   "metadata": {},
   "outputs": [
    {
     "data": {
      "text/plain": [
       "array([[ 2,  2, -2, -2],\n",
       "       [-2,  2,  2, -2],\n",
       "       [-2,  2,  2, -2],\n",
       "       [ 2, -2, -2, -2]])"
      ]
     },
     "execution_count": 46,
     "metadata": {},
     "output_type": "execute_result"
    }
   ],
   "source": [
    "np.where(arr>0, 2, -2)"
   ]
  },
  {
   "cell_type": "code",
   "execution_count": 47,
   "id": "2e3cb641",
   "metadata": {},
   "outputs": [
    {
     "data": {
      "text/plain": [
       "array([[ 2.        ,  2.        , -0.95898831, -1.20938829],\n",
       "       [-1.41229201,  2.        ,  2.        , -0.65876032],\n",
       "       [-1.22867499,  2.        ,  2.        , -0.13081169],\n",
       "       [ 2.        , -0.09296246, -0.06615089, -1.10821447]])"
      ]
     },
     "execution_count": 47,
     "metadata": {},
     "output_type": "execute_result"
    }
   ],
   "source": [
    "np.where(arr>0, 2, arr)"
   ]
  },
  {
   "cell_type": "code",
   "execution_count": 48,
   "id": "1376d27a",
   "metadata": {},
   "outputs": [
    {
     "data": {
      "text/plain": [
       "array([[ 0.13595685,  1.34707776,  0.06114402,  0.0709146 ],\n",
       "       [ 0.43365454,  0.27748366,  0.53025239,  0.53672097],\n",
       "       [ 0.61835001, -0.79501746,  0.30003095, -1.60270159],\n",
       "       [ 0.26679883, -1.26162378, -0.07127081,  0.47404973],\n",
       "       [-0.41485376,  0.0977165 , -1.64041784, -0.85725882]])"
      ]
     },
     "execution_count": 48,
     "metadata": {},
     "output_type": "execute_result"
    }
   ],
   "source": [
    "arr = rng.standard_normal((5,4))\n",
    "arr"
   ]
  },
  {
   "cell_type": "code",
   "execution_count": 49,
   "id": "fb069ce3",
   "metadata": {},
   "outputs": [
    {
     "data": {
      "text/plain": [
       "(-0.0746496624139168, -0.0746496624139168)"
      ]
     },
     "execution_count": 49,
     "metadata": {},
     "output_type": "execute_result"
    }
   ],
   "source": [
    "arr.mean(), np.mean(arr), "
   ]
  },
  {
   "cell_type": "code",
   "execution_count": 50,
   "id": "cba1568b",
   "metadata": {
    "scrolled": true
   },
   "outputs": [
    {
     "data": {
      "text/plain": [
       "(array([[2, 3, 2, 3],\n",
       "        [3, 3, 2, 2],\n",
       "        [3, 3, 2, 3],\n",
       "        [3, 2, 3, 3],\n",
       "        [3, 2, 3, 2]]),\n",
       " array([2.5 , 2.5 , 2.75, 2.75, 2.5 ]),\n",
       " array([2.8, 2.6, 2.4, 2.6]))"
      ]
     },
     "execution_count": 50,
     "metadata": {},
     "output_type": "execute_result"
    }
   ],
   "source": [
    "arr = rng.standard_normal((5,4))\n",
    "\n",
    "arr = np.where(arr>0, 2, 3)\n",
    "arr, arr.mean(axis=1), arr.mean(axis=0)\n"
   ]
  },
  {
   "cell_type": "code",
   "execution_count": 51,
   "id": "f8cc6ee6",
   "metadata": {},
   "outputs": [
    {
     "data": {
      "text/plain": [
       "array([ 0,  1,  3,  6, 10, 15, 21, 28])"
      ]
     },
     "execution_count": 51,
     "metadata": {},
     "output_type": "execute_result"
    }
   ],
   "source": [
    "arr = np.array([0,1,2,3,4,5,6,7])\n",
    "arr.cumsum()"
   ]
  },
  {
   "cell_type": "code",
   "execution_count": 52,
   "id": "c570813c",
   "metadata": {},
   "outputs": [
    {
     "data": {
      "text/plain": [
       "array([[0, 1, 2],\n",
       "       [3, 4, 5],\n",
       "       [6, 7, 8]])"
      ]
     },
     "execution_count": 52,
     "metadata": {},
     "output_type": "execute_result"
    }
   ],
   "source": [
    " arr = np.array([[0, 1, 2], [3, 4, 5], [6, 7, 8]])\n",
    "arr"
   ]
  },
  {
   "cell_type": "code",
   "execution_count": 53,
   "id": "eb8567c2",
   "metadata": {},
   "outputs": [
    {
     "data": {
      "text/plain": [
       "(array([[ 0,  1,  2],\n",
       "        [ 3,  5,  7],\n",
       "        [ 9, 12, 15]]),\n",
       " array([[ 0,  1,  3],\n",
       "        [ 3,  7, 12],\n",
       "        [ 6, 13, 21]]))"
      ]
     },
     "execution_count": 53,
     "metadata": {},
     "output_type": "execute_result"
    }
   ],
   "source": [
    "arr.cumsum(axis=0), arr.cumsum(axis=1)"
   ]
  },
  {
   "cell_type": "code",
   "execution_count": 55,
   "id": "77f7cdb1",
   "metadata": {},
   "outputs": [
    {
     "data": {
      "text/plain": [
       "(array([-1.15912585,  2.15031011, -0.15027022, -0.16116428, -1.07944248,\n",
       "         0.87796618,  0.22446741, -0.59159345,  0.2262628 ,  0.68618251,\n",
       "         1.21500461,  0.21605944, -0.96482356, -0.5566078 , -2.29838764,\n",
       "        -0.73208213,  0.7364691 ,  0.46571672, -0.10787605, -0.34143629,\n",
       "         1.58453379,  0.28224121,  0.90954639,  0.39507157, -0.66937652,\n",
       "         1.55536898, -1.23813903, -1.19617346, -0.42914951, -0.72965989,\n",
       "        -0.5574689 , -0.59995306,  0.9868272 ,  0.05419468,  0.35190744,\n",
       "        -1.58796951, -0.84695135,  1.08457026, -1.20382665,  1.17853089,\n",
       "        -1.03066585,  0.29921833, -0.84623997,  0.1966203 , -0.89963782,\n",
       "        -0.25660543,  1.67254777, -0.37526965,  2.03679478, -0.4587934 ,\n",
       "        -1.17576966,  0.0750525 , -0.40899022,  1.75653198,  0.86092307,\n",
       "         1.18127398,  0.63167017,  2.47099711,  0.79430252,  0.53135288,\n",
       "        -0.8293986 , -0.90930383,  0.18423593,  0.99773818,  1.11695904,\n",
       "        -0.94400054,  0.5314067 ,  0.193346  , -1.11826358,  0.51184558,\n",
       "        -2.27056629,  0.26316355,  2.47131349, -1.0198852 ,  0.01875261,\n",
       "        -1.89426422, -0.75500166,  0.75619774, -1.04246201, -0.03425814,\n",
       "        -0.3551683 , -0.37842837,  0.19064869,  0.48439629,  1.23026775,\n",
       "         0.83297062, -0.56494175,  1.41469601,  1.24828122, -1.5589481 ,\n",
       "         0.66523259,  0.82559517,  0.96631883,  0.5471753 , -1.29718326,\n",
       "        -0.26763433, -2.07020656, -0.15789255,  2.02894262,  0.68157089]),\n",
       " 53,\n",
       " 47)"
      ]
     },
     "execution_count": 55,
     "metadata": {},
     "output_type": "execute_result"
    }
   ],
   "source": [
    "arr = rng.standard_normal(100)\n",
    "arr, (arr > 0).sum(), (arr <= 0).sum()"
   ]
  },
  {
   "cell_type": "code",
   "execution_count": 62,
   "id": "6579a6f0",
   "metadata": {},
   "outputs": [
    {
     "data": {
      "text/plain": [
       "(3, array([ True,  True,  True]))"
      ]
     },
     "execution_count": 62,
     "metadata": {},
     "output_type": "execute_result"
    }
   ],
   "source": [
    "a = np.array([1,2,3])\n",
    "(a > 0).sum() ,(a > 0) #no of true values,"
   ]
  },
  {
   "cell_type": "code",
   "execution_count": 64,
   "id": "ae33b272",
   "metadata": {},
   "outputs": [
    {
     "data": {
      "text/plain": [
       "(True, False)"
      ]
     },
     "execution_count": 64,
     "metadata": {},
     "output_type": "execute_result"
    }
   ],
   "source": [
    "bools = np.array([False, False, True, False])\n",
    "bools.any(), bools.all()"
   ]
  },
  {
   "cell_type": "code",
   "execution_count": 67,
   "id": "ec9b1615",
   "metadata": {},
   "outputs": [
    {
     "data": {
      "text/plain": [
       "(array([-3.11960863, -1.70578539, -1.4476717 , -0.67849392, -0.66043248,\n",
       "        -0.55599901, -0.41124593, -0.37811992, -0.21853515,  1.35638101]),\n",
       " None,\n",
       " array([-3.11960863, -1.70578539, -1.4476717 , -0.67849392, -0.66043248,\n",
       "        -0.55599901, -0.41124593, -0.37811992, -0.21853515,  1.35638101]))"
      ]
     },
     "execution_count": 67,
     "metadata": {},
     "output_type": "execute_result"
    }
   ],
   "source": [
    "arr = rng.standard_normal(10)\n",
    "arr, arr.sort(), arr"
   ]
  },
  {
   "cell_type": "code",
   "execution_count": 68,
   "id": "255cef6f",
   "metadata": {},
   "outputs": [
    {
     "data": {
      "text/plain": [
       "array([[ 0.71901264, -1.63251948, -0.84569363],\n",
       "       [-0.22310006, -1.20221832,  0.36998768],\n",
       "       [ 0.32999736, -0.71044661, -1.77110716],\n",
       "       [ 1.60083585,  0.47109807,  0.42375063],\n",
       "       [ 0.07226048, -0.00734697,  0.83107567]])"
      ]
     },
     "execution_count": 68,
     "metadata": {},
     "output_type": "execute_result"
    }
   ],
   "source": [
    "arr = rng.standard_normal((5,3))\n",
    "arr"
   ]
  },
  {
   "cell_type": "code",
   "execution_count": 69,
   "id": "f3923c68",
   "metadata": {},
   "outputs": [
    {
     "data": {
      "text/plain": [
       "array([[-0.22310006, -1.63251948, -1.77110716],\n",
       "       [ 0.07226048, -1.20221832, -0.84569363],\n",
       "       [ 0.32999736, -0.71044661,  0.36998768],\n",
       "       [ 0.71901264, -0.00734697,  0.42375063],\n",
       "       [ 1.60083585,  0.47109807,  0.83107567]])"
      ]
     },
     "execution_count": 69,
     "metadata": {},
     "output_type": "execute_result"
    }
   ],
   "source": [
    "arr.sort(axis = 0)\n",
    "arr"
   ]
  },
  {
   "cell_type": "code",
   "execution_count": 70,
   "id": "1e47b4bb",
   "metadata": {},
   "outputs": [
    {
     "data": {
      "text/plain": [
       "array(['Bob', 'Joe', 'Will'], dtype='<U4')"
      ]
     },
     "execution_count": 70,
     "metadata": {},
     "output_type": "execute_result"
    }
   ],
   "source": [
    "names = np.array([\"Bob\", \"Will\", \"Joe\", \"Bob\", \"Will\", \"Joe\", \"Joe\"])\n",
    "np.unique(names)\n"
   ]
  },
  {
   "cell_type": "code",
   "execution_count": 71,
   "id": "1a6e2d9a",
   "metadata": {},
   "outputs": [
    {
     "data": {
      "text/plain": [
       "array([1, 2, 5, 6])"
      ]
     },
     "execution_count": 71,
     "metadata": {},
     "output_type": "execute_result"
    }
   ],
   "source": [
    "ints = np.array([5,5,5,2,2,2,6,6,6,1])\n",
    "np.unique(ints)"
   ]
  },
  {
   "cell_type": "code",
   "execution_count": 72,
   "id": "cce57dc2",
   "metadata": {},
   "outputs": [
    {
     "data": {
      "text/plain": [
       "(['Bob', 'Joe', 'Will'], {'Bob', 'Joe', 'Will'})"
      ]
     },
     "execution_count": 72,
     "metadata": {},
     "output_type": "execute_result"
    }
   ],
   "source": [
    "sorted(set(names)), set(names)\n"
   ]
  },
  {
   "cell_type": "code",
   "execution_count": 73,
   "id": "fbdbf95c",
   "metadata": {},
   "outputs": [
    {
     "data": {
      "text/plain": [
       "array([ True,  True, False, False,  True, False, False, False, False,\n",
       "        True, False])"
      ]
     },
     "execution_count": 73,
     "metadata": {},
     "output_type": "execute_result"
    }
   ],
   "source": [
    "values = np.array([9, 2, 4,5,2,4,6,7,1,2,3])\n",
    "np.in1d(values, [9,2])"
   ]
  },
  {
   "cell_type": "code",
   "execution_count": 75,
   "id": "564b5cbc",
   "metadata": {},
   "outputs": [],
   "source": [
    "arr = np.arange(10)\n",
    "np.save(\"some_array\", arr)"
   ]
  },
  {
   "cell_type": "code",
   "execution_count": 78,
   "id": "cf2da154",
   "metadata": {},
   "outputs": [
    {
     "data": {
      "text/plain": [
       "array([0, 1, 2, 3, 4, 5, 6, 7, 8, 9])"
      ]
     },
     "execution_count": 78,
     "metadata": {},
     "output_type": "execute_result"
    }
   ],
   "source": [
    "np.load(\"some_array.npy\")\n"
   ]
  },
  {
   "cell_type": "code",
   "execution_count": 79,
   "id": "75f710ae",
   "metadata": {},
   "outputs": [],
   "source": [
    "np.savez(\"array_archive.npz\", a=arr, b=arr)"
   ]
  },
  {
   "cell_type": "code",
   "execution_count": 83,
   "id": "8015d0bb",
   "metadata": {},
   "outputs": [
    {
     "data": {
      "text/plain": [
       "(array([0, 1, 2, 3, 4, 5, 6, 7, 8, 9]), array([0, 1, 2, 3, 4, 5, 6, 7, 8, 9]))"
      ]
     },
     "execution_count": 83,
     "metadata": {},
     "output_type": "execute_result"
    }
   ],
   "source": [
    "np.load(\"some_array.npy\")\n",
    "arch = np.load(\"array_archive.npz\")\n",
    "arch[\"b\"], arch[\"a\"]"
   ]
  },
  {
   "cell_type": "code",
   "execution_count": 84,
   "id": "c45e3b49",
   "metadata": {},
   "outputs": [],
   "source": [
    "np.savez_compressed(\"arrays_compressed.npz\", a=arr, b=arr)"
   ]
  },
  {
   "cell_type": "code",
   "execution_count": 86,
   "id": "1a1f24a2",
   "metadata": {},
   "outputs": [],
   "source": [
    "x = np.array([[1,2,3], [4,5,6]])\n",
    "y = np.array([[6, 23], [-1, 7], [8,9]])"
   ]
  },
  {
   "cell_type": "code",
   "execution_count": 87,
   "id": "693c4747",
   "metadata": {},
   "outputs": [
    {
     "data": {
      "text/plain": [
       "array([[ 28,  64],\n",
       "       [ 67, 181]])"
      ]
     },
     "execution_count": 87,
     "metadata": {},
     "output_type": "execute_result"
    }
   ],
   "source": [
    "x.dot(y)"
   ]
  },
  {
   "cell_type": "code",
   "execution_count": 88,
   "id": "5fc6ce3a",
   "metadata": {},
   "outputs": [
    {
     "data": {
      "text/plain": [
       "array([[ 28,  64],\n",
       "       [ 67, 181]])"
      ]
     },
     "execution_count": 88,
     "metadata": {},
     "output_type": "execute_result"
    }
   ],
   "source": [
    "np.dot(x,y)"
   ]
  },
  {
   "cell_type": "code",
   "execution_count": 89,
   "id": "9357fd3d",
   "metadata": {},
   "outputs": [
    {
     "data": {
      "text/plain": [
       "array([ 6., 15.])"
      ]
     },
     "execution_count": 89,
     "metadata": {},
     "output_type": "execute_result"
    }
   ],
   "source": [
    "x @ np.ones(3)"
   ]
  },
  {
   "cell_type": "code",
   "execution_count": 90,
   "id": "f7c177aa",
   "metadata": {},
   "outputs": [
    {
     "data": {
      "text/plain": [
       "array([[ 0.8830299 , -0.07409188,  0.53690725,  0.3453291 ,  0.7423666 ],\n",
       "       [-0.07409188,  8.64373765,  1.93211725, -7.94697864, -5.13956217],\n",
       "       [ 0.53690725,  1.93211725,  1.22082208, -1.89000808, -0.94586493],\n",
       "       [ 0.3453291 , -7.94697864, -1.89000808,  7.7700188 ,  5.28763755],\n",
       "       [ 0.7423666 , -5.13956217, -0.94586493,  5.28763755,  4.46573424]])"
      ]
     },
     "execution_count": 90,
     "metadata": {},
     "output_type": "execute_result"
    }
   ],
   "source": [
    "from numpy.linalg import inv, qr\n",
    "X = rng.standard_normal((5,5))\n",
    "mat = X.T @ X\n",
    "inv(mat)"
   ]
  },
  {
   "cell_type": "code",
   "execution_count": 91,
   "id": "32efa019",
   "metadata": {},
   "outputs": [
    {
     "data": {
      "text/plain": [
       "array([[ 1.00000000e+00, -9.76294270e-16,  2.42903349e-16,\n",
       "         6.72674059e-16,  1.15547689e-15],\n",
       "       [ 1.92117219e-16,  1.00000000e+00, -5.51019644e-17,\n",
       "        -5.09892752e-15, -4.76763748e-15],\n",
       "       [ 2.20709686e-16,  7.37911263e-16,  1.00000000e+00,\n",
       "        -4.19185138e-15,  6.97984424e-16],\n",
       "       [-1.36194033e-17,  7.97578933e-15, -7.09877706e-17,\n",
       "         1.00000000e+00, -3.36219580e-16],\n",
       "       [-9.38933338e-17,  1.73824772e-16, -1.83750696e-17,\n",
       "         1.68719185e-15,  1.00000000e+00]])"
      ]
     },
     "execution_count": 91,
     "metadata": {},
     "output_type": "execute_result"
    }
   ],
   "source": [
    "mat @ inv(mat)"
   ]
  },
  {
   "cell_type": "code",
   "execution_count": 92,
   "id": "015178b3",
   "metadata": {},
   "outputs": [
    {
     "data": {
      "text/plain": [
       "array([[ 0.8830299 , -0.07409188,  0.53690725,  0.3453291 ,  0.7423666 ],\n",
       "       [-0.07409188,  8.64373765,  1.93211725, -7.94697864, -5.13956217],\n",
       "       [ 0.53690725,  1.93211725,  1.22082208, -1.89000808, -0.94586493],\n",
       "       [ 0.3453291 , -7.94697864, -1.89000808,  7.7700188 ,  5.28763755],\n",
       "       [ 0.7423666 , -5.13956217, -0.94586493,  5.28763755,  4.46573424]])"
      ]
     },
     "execution_count": 92,
     "metadata": {},
     "output_type": "execute_result"
    }
   ],
   "source": [
    "inv(mat)"
   ]
  },
  {
   "cell_type": "code",
   "execution_count": 93,
   "id": "4b343073",
   "metadata": {},
   "outputs": [
    {
     "data": {
      "text/plain": [
       "array([[ 5.07448059, -2.36788589, -3.81202693, -3.07128806, -0.73959308],\n",
       "       [-2.36788589,  3.51654541,  2.18720422,  4.61609535, -0.56163132],\n",
       "       [-3.81202693,  2.18720422,  4.52627231,  3.65928059, -0.22314666],\n",
       "       [-3.07128806,  4.61609535,  3.65928059,  7.13729182, -1.85266205],\n",
       "       [-0.73959308, -0.56163132, -0.22314666, -1.85266205,  1.84687411]])"
      ]
     },
     "execution_count": 93,
     "metadata": {},
     "output_type": "execute_result"
    }
   ],
   "source": [
    "X.T.dot(X)"
   ]
  },
  {
   "cell_type": "code",
   "execution_count": 95,
   "id": "20cf1f4e",
   "metadata": {},
   "outputs": [],
   "source": [
    "# random walks- examples\n",
    "import random \n",
    "position = 0\n",
    "walk = [position]\n",
    "nsteps = 1000\n",
    "for _ in range(nsteps):\n",
    "    step = 1 if random.randint(0, 1) else -1\n",
    "    position += step\n",
    "    walk.append(position)"
   ]
  },
  {
   "cell_type": "code",
   "execution_count": 96,
   "id": "5152473d",
   "metadata": {},
   "outputs": [
    {
     "data": {
      "text/plain": [
       "[<matplotlib.lines.Line2D at 0x7f56ee63d060>]"
      ]
     },
     "execution_count": 96,
     "metadata": {},
     "output_type": "execute_result"
    },
    {
     "data": {
      "image/png": "[encoded data removed]",
      "text/plain": [
       "<Figure size 640x480 with 1 Axes>"
      ]
     },
     "metadata": {},
     "output_type": "display_data"
    }
   ],
   "source": [
    "plt.plot(walk[:100])"
   ]
  },
  {
   "cell_type": "code",
   "execution_count": 97,
   "id": "b38b53f1",
   "metadata": {},
   "outputs": [],
   "source": [
    "nsteps = 1000\n",
    "rng = np.random.default_rng(seed = 12345)\n",
    "draws = rng.integers(0,2, size=nsteps)\n",
    "steps = np.where(draws == 0, 1, -1)\n",
    "walk = steps.cumsum()"
   ]
  },
  {
   "cell_type": "code",
   "execution_count": 98,
   "id": "ae7301a8",
   "metadata": {},
   "outputs": [
    {
     "data": {
      "text/plain": [
       "(-8, 50)"
      ]
     },
     "execution_count": 98,
     "metadata": {},
     "output_type": "execute_result"
    }
   ],
   "source": [
    "walk.min(), walk.max()"
   ]
  },
  {
   "cell_type": "code",
   "execution_count": 99,
   "id": "56ad526f",
   "metadata": {},
   "outputs": [
    {
     "data": {
      "text/plain": [
       "155"
      ]
     },
     "execution_count": 99,
     "metadata": {},
     "output_type": "execute_result"
    }
   ],
   "source": [
    "(np.abs(walk) >= 10).argmax()"
   ]
  },
  {
   "cell_type": "code",
   "execution_count": 100,
   "id": "bc099f77",
   "metadata": {},
   "outputs": [
    {
     "data": {
      "text/plain": [
       "array([[  1,   2,   3, ...,  22,  23,  22],\n",
       "       [  1,   0,  -1, ..., -50, -49, -48],\n",
       "       [  1,   2,   3, ...,  50,  49,  48],\n",
       "       ...,\n",
       "       [ -1,  -2,  -1, ..., -10,  -9, -10],\n",
       "       [ -1,  -2,  -3, ...,   8,   9,   8],\n",
       "       [ -1,   0,   1, ...,  -4,  -3,  -2]])"
      ]
     },
     "execution_count": 100,
     "metadata": {},
     "output_type": "execute_result"
    }
   ],
   "source": [
    "nwalks = 5000\n",
    "nsteps = 1000\n",
    "draws = rng.integers(0, 2, size=(nwalks,nsteps)) \n",
    "steps = np.where(draws > 0, 1, -1)\n",
    "walks = steps.cumsum(axis=1)\n",
    "walks"
   ]
  },
  {
   "cell_type": "code",
   "execution_count": 103,
   "id": "4ce5d015",
   "metadata": {},
   "outputs": [
    {
     "data": {
      "text/plain": [
       "(114, -120)"
      ]
     },
     "execution_count": 103,
     "metadata": {},
     "output_type": "execute_result"
    }
   ],
   "source": [
    "walks.max(), walks.min()"
   ]
  },
  {
   "cell_type": "code",
   "execution_count": 106,
   "id": "56626871",
   "metadata": {},
   "outputs": [
    {
     "data": {
      "text/plain": [
       "array([ True,  True,  True, ...,  True,  True,  True])"
      ]
     },
     "execution_count": 106,
     "metadata": {},
     "output_type": "execute_result"
    }
   ],
   "source": [
    "hits30 = (np.abs(walks) >= 0).any(axis=1)\n",
    "hits30\n"
   ]
  },
  {
   "cell_type": "code",
   "execution_count": 107,
   "id": "ea144ef0",
   "metadata": {},
   "outputs": [
    {
     "data": {
      "text/plain": [
       "5000"
      ]
     },
     "execution_count": 107,
     "metadata": {},
     "output_type": "execute_result"
    }
   ],
   "source": [
    "hits30.sum()"
   ]
  },
  {
   "cell_type": "code",
   "execution_count": 109,
   "id": "202bf649",
   "metadata": {},
   "outputs": [
    {
     "data": {
      "text/plain": [
       "339.887"
      ]
     },
     "execution_count": 109,
     "metadata": {},
     "output_type": "execute_result"
    }
   ],
   "source": [
    "crossing_times = (np.abs(walks[hits30]) >= 30).argmax(axis=1)\n",
    "crossing_times\n",
    "# avg mean crossing time\n",
    "crossing_times.mean()\n",
    "draws = 0.25 * r"
   ]
  }
 ],
 "metadata": {
  "kernelspec": {
   "display_name": "Python 3 (ipykernel)",
   "language": "python",
   "name": "python3"
  },
  "language_info": {
   "codemirror_mode": {
    "name": "ipython",
    "version": 3
   },
   "file_extension": ".py",
   "mimetype": "text/x-python",
   "name": "python",
   "nbconvert_exporter": "python",
   "pygments_lexer": "ipython3",
   "version": "3.10.10"
  }
 },
 "nbformat": 4,
 "nbformat_minor": 5
}
