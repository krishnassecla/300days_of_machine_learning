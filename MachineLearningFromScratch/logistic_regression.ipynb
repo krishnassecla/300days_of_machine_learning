{
 "cells": [
  {
   "cell_type": "code",
   "execution_count": 1,
   "id": "5869c4c9",
   "metadata": {},
   "outputs": [],
   "source": [
    "import numpy as np \n",
    "np.set_printoptions(suppress=True)\n",
    "import matplotlib.pyplot as plt\n",
    "import seaborn as sns\n",
    "from sklearn import datasets"
   ]
  },
  {
   "cell_type": "code",
   "execution_count": 3,
   "id": "3b6975fe",
   "metadata": {},
   "outputs": [],
   "source": [
    "cancer = datasets.load_breast_cancer()\n",
    "X = cancer['data']\n",
    "y = cancer['target']"
   ]
  },
  {
   "cell_type": "code",
   "execution_count": 4,
   "id": "ae790bc6",
   "metadata": {},
   "outputs": [],
   "source": [
    "def logistic(z):\n",
    "    return (1 + np.exp(-z))**(-1)\n",
    "\n",
    "def standard_scaler(X):\n",
    "    mean = X.mean(0)\n",
    "    sd = X.std(0)\n",
    "    return (X - mean)/sd "
   ]
  },
  {
   "cell_type": "code",
   "execution_count": 5,
   "id": "251947f1",
   "metadata": {},
   "outputs": [],
   "source": [
    "class BinaryLogisticRegression:\n",
    "    \n",
    "    def fit(self, X, y, n_iter, lr, standardize = True, has_intercept = False):\n",
    "    \n",
    "        if standardize:\n",
    "            X = standard_scaler(X) \n",
    "        if not has_intercept:\n",
    "            ones = np.ones(X.shape[0]).reshape(-1, 1)\n",
    "            X = np.concatenate((ones, X), axis = 1)\n",
    "        self.X = X\n",
    "        self.N, self.D = X.shape\n",
    "        self.y = y\n",
    "        self.n_iter = n_iter\n",
    "        self.lr = lr\n",
    "        beta = np.random.randn(self.D) \n",
    "        for i in range(n_iter):\n",
    "            p = logistic(np.dot(self.X, beta))  \n",
    "            gradient = -np.dot(self.X.T, (self.y-p)) \n",
    "            beta -= self.lr*gradient \n",
    "        self.beta = beta\n",
    "        self.p = logistic(np.dot(self.X, self.beta)) \n",
    "        self.yhat = self.p.round()\n",
    "    "
   ]
  }
 ],
 "metadata": {
  "kernelspec": {
   "display_name": "Python 3 (ipykernel)",
   "language": "python",
   "name": "python3"
  },
  "language_info": {
   "codemirror_mode": {
    "name": "ipython",
    "version": 3
   },
   "file_extension": ".py",
   "mimetype": "text/x-python",
   "name": "python",
   "nbconvert_exporter": "python",
   "pygments_lexer": "ipython3",
   "version": "3.10.10"
  }
 },
 "nbformat": 4,
 "nbformat_minor": 5
}
